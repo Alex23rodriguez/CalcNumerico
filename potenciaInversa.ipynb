{
 "cells": [
  {
   "cell_type": "code",
   "execution_count": 2,
   "metadata": {
    "collapsed": true
   },
   "outputs": [],
   "source": [
    "import numpy as np\n",
    "from numpy import linalg as LA\n",
    "import scipy"
   ]
  },
  {
   "cell_type": "code",
   "execution_count": 240,
   "metadata": {
    "collapsed": true
   },
   "outputs": [],
   "source": [
    "def tolerancia(A, w, l, eps):\n",
    "    n=LA.norm(A.dot(w) - l*w)\n",
    "    return n <= eps * LA.norm(A.dot(w))"
   ]
  },
  {
   "cell_type": "code",
   "execution_count": 264,
   "metadata": {
    "collapsed": true
   },
   "outputs": [],
   "source": [
    "def metodo(q,A,eps):# con tolerancia\n",
    "    w = q / LA.norm(q)\n",
    "    l = w.dot( A.dot(w) )\n",
    "    i=0\n",
    "    while(not tolerancia(A, w, l, eps)):\n",
    "        i+=1\n",
    "        q = A.dot(w)\n",
    "        l = w.dot( A.dot(w) )\n",
    "        w = q / LA.norm(q)\n",
    "    return l,i\n",
    "\n",
    "#norma(Aw_i-L_iw_i)<=eps*norma(Aw_i)"
   ]
  },
  {
   "cell_type": "code",
   "execution_count": 265,
   "metadata": {
    "collapsed": true
   },
   "outputs": [],
   "source": [
    "def metodo2(q,A,eps): # con tolerancia: diferencia entre dos iteraciones\n",
    "    w_= -1000\n",
    "    w = q / LA.norm(q)\n",
    "    l = w.dot( A.dot(w) )\n",
    "    i=0\n",
    "    while LA.norm(w_ - w) > eps:\n",
    "        q = A.dot(w)\n",
    "        l = w.dot( A.dot(w) )\n",
    "        i+=1\n",
    "        w_ = w\n",
    "        w = q / LA.norm(q)\n",
    "    return l, i"
   ]
  },
  {
   "cell_type": "code",
   "execution_count": 266,
   "metadata": {
    "collapsed": true
   },
   "outputs": [],
   "source": [
    "def metodo3(q,A,k): # con iteraciones\n",
    "    w = q / LA.norm(q)\n",
    "    l = w.dot( A.dot(w) )\n",
    "    for i in range(k):\n",
    "        w = q / LA.norm(q)\n",
    "        q = A.dot(w)\n",
    "        l = w.dot( A.dot(w) )\n",
    "    return l"
   ]
  },
  {
   "cell_type": "code",
   "execution_count": 267,
   "metadata": {
    "collapsed": true
   },
   "outputs": [],
   "source": [
    "A=np.array([[1,12,23,55,6],[3,4,325,34,3],[3,4,325,5,323],[53,34,3255,5,73],[83,4,43,5,3]])\n",
    "q = np.array([1,2,3,4,5])"
   ]
  },
  {
   "cell_type": "code",
   "execution_count": 268,
   "metadata": {
    "collapsed": false
   },
   "outputs": [],
   "source": [
    "#A.dot(2)"
   ]
  },
  {
   "cell_type": "code",
   "execution_count": 269,
   "metadata": {
    "collapsed": false
   },
   "outputs": [
    {
     "data": {
      "text/plain": [
       "(475.81551464848121, 7)"
      ]
     },
     "execution_count": 269,
     "metadata": {},
     "output_type": "execute_result"
    }
   ],
   "source": [
    "metodo(q,A,0.01)"
   ]
  },
  {
   "cell_type": "code",
   "execution_count": 270,
   "metadata": {
    "collapsed": false
   },
   "outputs": [
    {
     "data": {
      "text/plain": [
       "(476.69272387650886, 15)"
      ]
     },
     "execution_count": 270,
     "metadata": {},
     "output_type": "execute_result"
    }
   ],
   "source": [
    "metodo2(q,A,.00001)"
   ]
  },
  {
   "cell_type": "code",
   "execution_count": 271,
   "metadata": {
    "collapsed": false
   },
   "outputs": [
    {
     "data": {
      "text/plain": [
       "476.6830946813738"
      ]
     },
     "execution_count": 271,
     "metadata": {},
     "output_type": "execute_result"
    }
   ],
   "source": [
    "metodo3(q,A,100000)"
   ]
  },
  {
   "cell_type": "code",
   "execution_count": null,
   "metadata": {
    "collapsed": true
   },
   "outputs": [],
   "source": []
  }
 ],
 "metadata": {
  "anaconda-cloud": {},
  "kernelspec": {
   "display_name": "Python [conda root]",
   "language": "python",
   "name": "conda-root-py"
  },
  "language_info": {
   "codemirror_mode": {
    "name": "ipython",
    "version": 2
   },
   "file_extension": ".py",
   "mimetype": "text/x-python",
   "name": "python",
   "nbconvert_exporter": "python",
   "pygments_lexer": "ipython2",
   "version": "2.7.12"
  }
 },
 "nbformat": 4,
 "nbformat_minor": 1
}
