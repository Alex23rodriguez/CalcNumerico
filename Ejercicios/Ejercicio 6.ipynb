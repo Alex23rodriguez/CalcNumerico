{
 "cells": [
  {
   "cell_type": "code",
   "execution_count": 37,
   "metadata": {
    "collapsed": true
   },
   "outputs": [],
   "source": [
    "import sys\n",
    "sys.path.append('../')\n",
    "from IPython.display import Latex\n",
    "import latexStrings as ls\n",
    "import numpy as np\n",
    "import scipy.linalg as linear\n",
    "from eigenvalues import *"
   ]
  },
  {
   "cell_type": "markdown",
   "metadata": {},
   "source": [
    "# Ejercicio 6"
   ]
  },
  {
   "cell_type": "markdown",
   "metadata": {
    "collapsed": true
   },
   "source": [
    "Comparación de los resultados (errores en eigenvalores) entre la implementación del método QR simple y los del QR con shifts dinámicos con el resultado la librería linalg. "
   ]
  },
  {
   "cell_type": "markdown",
   "metadata": {
    "collapsed": true
   },
   "source": [
    "Considerémos la matriz de fiedler(25)\n",
    "Le aplicaremos el método de QR simple con un máximo de 2000 iteraciones, y el de QR con shift dinámico con un máximo de 20 iteraciones. En ambos casos la tolerancia será de 1e-10"
   ]
  },
  {
   "cell_type": "code",
   "execution_count": 112,
   "metadata": {
    "collapsed": false
   },
   "outputs": [],
   "source": [
    "QR_eig, QR_iter = simpleQR(fiedler(25), maxIter=2000, tol=1e-10)\n",
    "shQR_eig, shQR_iter = shiftQR(fiedler(25), maxIter=20, tol=1e-10)\n",
    "actual = linear.eig(fiedler(25))[0].real\n",
    "err_abs_QR = abs(QR_eig - actual)\n",
    "err_abs_shQR = abs(shQR_eig - actual)\n",
    "err_rel_QR = abs((QR_eig - actual) / actual)\n",
    "err_rel_shQR = abs((shQR_eig - actual) / actual)"
   ]
  },
  {
   "cell_type": "markdown",
   "metadata": {},
   "source": [
    "Comparando los dos..."
   ]
  },
  {
   "cell_type": "markdown",
   "metadata": {},
   "source": [
    "**Error absoluto:**"
   ]
  },
  {
   "cell_type": "code",
   "execution_count": 113,
   "metadata": {
    "collapsed": false
   },
   "outputs": [
    {
     "data": {
      "text/plain": [
       "(array([6.25277607e-13, 1.27897692e-13, 2.84217094e-14, 8.88178420e-15,\n",
       "        5.68434189e-14, 8.88178420e-15, 7.54951657e-15, 4.44089210e-15,\n",
       "        3.99680289e-15, 1.11022302e-15, 6.43929354e-15, 1.77635684e-15,\n",
       "        5.77315973e-15, 6.66133815e-16, 8.88178420e-16, 5.55111512e-15,\n",
       "        5.55111512e-16, 4.44089210e-16, 6.66133815e-16, 5.55111512e-16,\n",
       "        5.55111512e-16, 2.33146835e-15, 1.88737914e-15, 5.99405459e-03,\n",
       "        5.99405459e-03]),\n",
       " array([1.37144184e-07, 1.37143942e-07, 3.55271368e-14, 2.88221180e-09,\n",
       "        3.78783760e-09, 1.13858408e-06, 3.78995463e-07, 1.09361161e-05,\n",
       "        1.06148108e-08, 1.72948440e-05, 7.22173454e-06, 2.95257115e-06,\n",
       "        1.31078567e-05, 6.32192284e-06, 5.27355225e-06, 7.93329256e-07,\n",
       "        7.77156117e-16, 1.22124533e-15, 1.66533454e-15, 9.99200722e-16,\n",
       "        2.22044605e-16, 4.44089210e-16, 1.11022302e-16, 5.99405459e-03,\n",
       "        5.99405459e-03]))"
      ]
     },
     "execution_count": 113,
     "metadata": {},
     "output_type": "execute_result"
    }
   ],
   "source": [
    "err_abs_QR, err_abs_shQR"
   ]
  },
  {
   "cell_type": "markdown",
   "metadata": {},
   "source": [
    "**Error relativo:**"
   ]
  },
  {
   "cell_type": "code",
   "execution_count": 114,
   "metadata": {
    "collapsed": false
   },
   "outputs": [
    {
     "data": {
      "text/plain": [
       "(array([2.88502741e-15, 1.00851151e-15, 7.10007436e-16, 6.23710098e-16,\n",
       "        6.68760056e-15, 1.69626984e-15, 2.00421377e-15, 1.61016094e-15,\n",
       "        1.83550114e-15, 6.37513052e-16, 4.42239050e-15, 1.44350076e-15,\n",
       "        5.39097271e-15, 7.07960703e-16, 1.05229088e-15, 7.26650403e-15,\n",
       "        7.90443914e-16, 6.82044108e-16, 1.08996871e-15, 9.59770390e-16,\n",
       "        1.00386608e-15, 4.37454964e-15, 3.64179474e-15, 1.19406927e-02,\n",
       "        1.17997949e-02]),\n",
       " array([6.32782505e-10, 1.08142095e-09, 8.87509295e-16, 2.02399041e-10,\n",
       "        4.45637250e-10, 2.17450210e-07, 1.00614115e-07, 3.96517335e-06,\n",
       "        4.87477063e-09, 9.93105756e-06, 4.95975685e-06, 2.39931449e-06,\n",
       "        1.22401079e-05, 6.71887965e-06, 6.24796866e-06, 1.03848148e-06,\n",
       "        1.10662148e-15, 1.87562130e-15, 2.72492177e-15, 1.72758670e-15,\n",
       "        4.01546432e-16, 8.33247551e-16, 2.14223220e-16, 1.19406927e-02,\n",
       "        1.17997949e-02]))"
      ]
     },
     "execution_count": 114,
     "metadata": {},
     "output_type": "execute_result"
    }
   ],
   "source": [
    "err_rel_QR, err_rel_shQR"
   ]
  },
  {
   "cell_type": "markdown",
   "metadata": {},
   "source": [
    "Es algo dificil comparar 25 número a la vez, así que para darnos una mejor idea de lo que pasa, compararemos la norma de los vectores de error"
   ]
  },
  {
   "cell_type": "code",
   "execution_count": null,
   "metadata": {
    "collapsed": true
   },
   "outputs": [],
   "source": []
  },
  {
   "cell_type": "code",
   "execution_count": null,
   "metadata": {
    "collapsed": true
   },
   "outputs": [],
   "source": []
  },
  {
   "cell_type": "code",
   "execution_count": 115,
   "metadata": {
    "collapsed": false
   },
   "outputs": [
    {
     "data": {
      "text/latex": [
       "QR simple: $\\quad\\epsilon_{abs} = $ 0.008476873300841401"
      ],
      "text/plain": [
       "<IPython.core.display.Latex object>"
      ]
     },
     "execution_count": 115,
     "metadata": {},
     "output_type": "execute_result"
    }
   ],
   "source": [
    "Latex('QR simple: $\\quad\\epsilon_{abs} = $ ' + str(linear.norm(err_abs_QR)))"
   ]
  },
  {
   "cell_type": "code",
   "execution_count": 116,
   "metadata": {
    "collapsed": false
   },
   "outputs": [
    {
     "data": {
      "text/latex": [
       "QR con shift dinámico: $\\quad\\epsilon_{abs} = $ 0.008476915844806272"
      ],
      "text/plain": [
       "<IPython.core.display.Latex object>"
      ]
     },
     "execution_count": 116,
     "metadata": {},
     "output_type": "execute_result"
    }
   ],
   "source": [
    "Latex('QR con shift dinámico: $\\quad\\epsilon_{abs} = $ ' + str(linear.norm(err_abs_shQR)))"
   ]
  },
  {
   "cell_type": "code",
   "execution_count": null,
   "metadata": {
    "collapsed": true
   },
   "outputs": [],
   "source": []
  },
  {
   "cell_type": "code",
   "execution_count": 117,
   "metadata": {
    "collapsed": false,
    "scrolled": true
   },
   "outputs": [
    {
     "data": {
      "text/latex": [
       "QR simple: $\\quad\\epsilon_{rel} = $ 0.016787355420098"
      ],
      "text/plain": [
       "<IPython.core.display.Latex object>"
      ]
     },
     "execution_count": 117,
     "metadata": {},
     "output_type": "execute_result"
    }
   ],
   "source": [
    "Latex('QR simple: $\\quad\\epsilon_{rel} = $ ' + str(linear.norm(err_rel_QR)))"
   ]
  },
  {
   "cell_type": "code",
   "execution_count": 118,
   "metadata": {
    "collapsed": false
   },
   "outputs": [
    {
     "data": {
      "text/latex": [
       "QR con shift dinámico: $\\quad\\epsilon_{rel} =$ 0.01678736673339015"
      ],
      "text/plain": [
       "<IPython.core.display.Latex object>"
      ]
     },
     "execution_count": 118,
     "metadata": {},
     "output_type": "execute_result"
    }
   ],
   "source": [
    "Latex('QR con shift dinámico: $\\quad\\epsilon_{rel} =$ ' + str(linear.norm(err_rel_shQR)))"
   ]
  },
  {
   "cell_type": "markdown",
   "metadata": {},
   "source": [
    "Nótese que en ambos casos el método de QR simple logra una mejor aproximación. Pero vemos que..."
   ]
  },
  {
   "cell_type": "code",
   "execution_count": 119,
   "metadata": {
    "collapsed": false
   },
   "outputs": [
    {
     "data": {
      "text/plain": [
       "(1571, 20)"
      ]
     },
     "execution_count": 119,
     "metadata": {},
     "output_type": "execute_result"
    }
   ],
   "source": [
    "QR_iter, shQR_iter"
   ]
  },
  {
   "cell_type": "markdown",
   "metadata": {},
   "source": [
    "El método de QR simple hace casi 800 veces el número de iteraciones que el QR con shift! y aún así ambas aproximaciones son bastante buenas.\n",
    "\n",
    "Veamos que pasa si limitamos el método de QR simple a 20 iteraciones..."
   ]
  },
  {
   "cell_type": "code",
   "execution_count": 120,
   "metadata": {
    "collapsed": true
   },
   "outputs": [],
   "source": [
    "QR_eig, QR_iter = simpleQR(fiedler(25), maxIter=20, tol=1e-10)\n",
    "err_abs_QR = abs(QR_eig - actual)\n",
    "err_rel_QR = abs((QR_eig - actual) / actual)"
   ]
  },
  {
   "cell_type": "code",
   "execution_count": 121,
   "metadata": {
    "collapsed": false
   },
   "outputs": [
    {
     "data": {
      "text/latex": [
       "QR simple: $\\quad\\epsilon_{abs} = $ 0.14029246943556825"
      ],
      "text/plain": [
       "<IPython.core.display.Latex object>"
      ]
     },
     "execution_count": 121,
     "metadata": {},
     "output_type": "execute_result"
    }
   ],
   "source": [
    "Latex('QR simple: $\\quad\\epsilon_{abs} = $ ' + str(linear.norm(err_abs_QR)))"
   ]
  },
  {
   "cell_type": "code",
   "execution_count": 122,
   "metadata": {
    "collapsed": false
   },
   "outputs": [
    {
     "data": {
      "text/latex": [
       "QR con shift dinámico: $\\quad\\epsilon_{abs} = $ 0.008476915844806272"
      ],
      "text/plain": [
       "<IPython.core.display.Latex object>"
      ]
     },
     "execution_count": 122,
     "metadata": {},
     "output_type": "execute_result"
    }
   ],
   "source": [
    "Latex('QR con shift dinámico: $\\quad\\epsilon_{abs} = $ ' + str(linear.norm(err_abs_shQR)))"
   ]
  },
  {
   "cell_type": "code",
   "execution_count": null,
   "metadata": {
    "collapsed": true
   },
   "outputs": [],
   "source": []
  },
  {
   "cell_type": "code",
   "execution_count": 123,
   "metadata": {
    "collapsed": false,
    "scrolled": true
   },
   "outputs": [
    {
     "data": {
      "text/latex": [
       "QR simple: $\\quad\\epsilon_{rel} = $ 0.16155309127593717"
      ],
      "text/plain": [
       "<IPython.core.display.Latex object>"
      ]
     },
     "execution_count": 123,
     "metadata": {},
     "output_type": "execute_result"
    }
   ],
   "source": [
    "Latex('QR simple: $\\quad\\epsilon_{rel} = $ ' + str(linear.norm(err_rel_QR)))"
   ]
  },
  {
   "cell_type": "code",
   "execution_count": 124,
   "metadata": {
    "collapsed": false
   },
   "outputs": [
    {
     "data": {
      "text/latex": [
       "QR con shift dinámico: $\\quad\\epsilon_{rel} =$ 0.01678736673339015"
      ],
      "text/plain": [
       "<IPython.core.display.Latex object>"
      ]
     },
     "execution_count": 124,
     "metadata": {},
     "output_type": "execute_result"
    }
   ],
   "source": [
    "Latex('QR con shift dinámico: $\\quad\\epsilon_{rel} =$ ' + str(linear.norm(err_rel_shQR)))"
   ]
  },
  {
   "cell_type": "markdown",
   "metadata": {},
   "source": [
    "Nótese que el error absoluto ahora el mucho mayor, y el error relativo es 10 mayor!"
   ]
  },
  {
   "cell_type": "code",
   "execution_count": null,
   "metadata": {
    "collapsed": true
   },
   "outputs": [],
   "source": []
  },
  {
   "cell_type": "markdown",
   "metadata": {},
   "source": [
    "Si no limitamos el número de iteraciones, observamos que:"
   ]
  },
  {
   "cell_type": "code",
   "execution_count": 129,
   "metadata": {
    "collapsed": false
   },
   "outputs": [],
   "source": [
    "QR_eig, QR_iter = simpleQR(fiedler(25), maxIter=10000,  tol=1e-10)\n",
    "shQR_eig, shQR_iter = shiftQR(fiedler(25), tol=1e-10)\n",
    "err_rel_QR = abs((QR_eig - actual) / actual)\n",
    "err_rel_shQR = abs((shQR_eig - actual) / actual)"
   ]
  },
  {
   "cell_type": "code",
   "execution_count": 130,
   "metadata": {
    "collapsed": false,
    "scrolled": true
   },
   "outputs": [
    {
     "data": {
      "text/latex": [
       "QR simple: $\\quad\\epsilon_{rel} = $ 0.016787355420098"
      ],
      "text/plain": [
       "<IPython.core.display.Latex object>"
      ]
     },
     "execution_count": 130,
     "metadata": {},
     "output_type": "execute_result"
    }
   ],
   "source": [
    "Latex('QR simple: $\\quad\\epsilon_{rel} = $ ' + str(linear.norm(err_rel_QR)))"
   ]
  },
  {
   "cell_type": "code",
   "execution_count": 131,
   "metadata": {
    "collapsed": false
   },
   "outputs": [
    {
     "data": {
      "text/latex": [
       "QR con shift dinámico: $\\quad\\epsilon_{rel} =$ 0.016787355420087996"
      ],
      "text/plain": [
       "<IPython.core.display.Latex object>"
      ]
     },
     "execution_count": 131,
     "metadata": {},
     "output_type": "execute_result"
    }
   ],
   "source": [
    "Latex('QR con shift dinámico: $\\quad\\epsilon_{rel} =$ ' + str(linear.norm(err_rel_shQR)))"
   ]
  },
  {
   "cell_type": "markdown",
   "metadata": {},
   "source": [
    "Para fines prácticos, el error relativo el el mismo"
   ]
  },
  {
   "cell_type": "code",
   "execution_count": 132,
   "metadata": {
    "collapsed": false
   },
   "outputs": [
    {
     "data": {
      "text/plain": [
       "(1571, 38)"
      ]
     },
     "execution_count": 132,
     "metadata": {},
     "output_type": "execute_result"
    }
   ],
   "source": [
    "QR_iter, shQR_iter"
   ]
  },
  {
   "cell_type": "code",
   "execution_count": 133,
   "metadata": {
    "collapsed": false
   },
   "outputs": [
    {
     "data": {
      "text/plain": [
       "41.3421052631579"
      ]
     },
     "execution_count": 133,
     "metadata": {},
     "output_type": "execute_result"
    }
   ],
   "source": [
    "QR_iter/shQR_iter"
   ]
  },
  {
   "cell_type": "markdown",
   "metadata": {},
   "source": [
    "Pero el método de QR simple hace más de 40 veces el número de iteraciones!"
   ]
  }
 ],
 "metadata": {
  "anaconda-cloud": {},
  "kernelspec": {
   "display_name": "Python 3",
   "language": "python",
   "name": "python3"
  },
  "language_info": {
   "codemirror_mode": {
    "name": "ipython",
    "version": 3
   },
   "file_extension": ".py",
   "mimetype": "text/x-python",
   "name": "python",
   "nbconvert_exporter": "python",
   "pygments_lexer": "ipython3",
   "version": "3.6.4"
  }
 },
 "nbformat": 4,
 "nbformat_minor": 1
}
