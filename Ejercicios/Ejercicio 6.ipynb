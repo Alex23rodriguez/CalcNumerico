{
 "cells": [
  {
   "cell_type": "code",
   "execution_count": 1,
   "metadata": {},
   "outputs": [],
   "source": [
    "import sys\n",
    "sys.path.append('../')\n",
    "from IPython.display import Latex\n",
    "import latexStrings as ls\n",
    "import numpy as np\n",
    "import scipy.linalg as linear\n",
    "from eigenvalues import *"
   ]
  },
  {
   "cell_type": "markdown",
   "metadata": {},
   "source": [
    "# Ejercicio 6"
   ]
  },
  {
   "cell_type": "markdown",
   "metadata": {
    "collapsed": true
   },
   "source": [
    "Considerémos la matriz fiedler(25). Le aplicaremos el método de QR simple con un máximo de 2000 iteraciones, y el de QR con shift dinámico con un máximo de 20 iteraciones. En ambos casos la tolerancia será de 1e-10. Despues compararemos con los eigenvalores calculados por _scipy.linalg_"
   ]
  },
  {
   "cell_type": "code",
   "execution_count": 2,
   "metadata": {},
   "outputs": [],
   "source": [
    "QR_eig, QR_iter = simpleQR(fiedler(25), maxIter=2000, tol=1e-10)\n",
    "shQR_eig, shQR_iter = shiftQR(fiedler(25), maxIter=20, tol=1e-10)\n",
    "actual = linear.eig(fiedler(25))[0].real\n",
    "err_abs_QR = abs(QR_eig - actual)\n",
    "err_abs_shQR = abs(shQR_eig - actual)\n",
    "err_rel_QR = abs((QR_eig - actual) / actual)\n",
    "err_rel_shQR = abs((shQR_eig - actual) / actual)"
   ]
  },
  {
   "cell_type": "markdown",
   "metadata": {},
   "source": [
    "Comparemos los errores absolutos y relativos:"
   ]
  },
  {
   "cell_type": "markdown",
   "metadata": {},
   "source": [
    "**Error absoluto:**"
   ]
  },
  {
   "cell_type": "code",
   "execution_count": 3,
   "metadata": {},
   "outputs": [
    {
     "name": "stdout",
     "output_type": "stream",
     "text": [
      "Error absoluto QR Simple: \n",
      "[2.27373675e-13 4.26325641e-14 1.42108547e-13 5.32907052e-15\n",
      " 3.37507799e-14 0.00000000e+00 1.15463195e-14 5.32907052e-15\n",
      " 4.44089210e-15 8.88178420e-16 2.22044605e-15 3.10862447e-15\n",
      " 0.00000000e+00 5.55111512e-16 1.99840144e-15 2.10942375e-15\n",
      " 1.88737914e-15 2.10942375e-15 6.66133815e-15 5.32907052e-15\n",
      " 5.55111512e-15 5.21804822e-15 1.88737914e-15 5.99405459e-03\n",
      " 5.99405459e-03]\n",
      "Error absoluto QR Shift: \n",
      "[1.37143843e-07 1.37144099e-07 1.20792265e-13 2.88221891e-09\n",
      " 3.78781628e-09 1.13858407e-06 3.78995473e-07 1.09361161e-05\n",
      " 1.06148077e-08 1.72948440e-05 7.22173454e-06 2.95257115e-06\n",
      " 1.31078567e-05 6.32192284e-06 5.27355225e-06 7.93329257e-07\n",
      " 2.22044605e-16 1.11022302e-15 3.33066907e-16 5.55111512e-16\n",
      " 3.33066907e-16 1.11022302e-16 3.33066907e-16 5.99405459e-03\n",
      " 5.99405459e-03]\n"
     ]
    }
   ],
   "source": [
    "print('Error absoluto QR Simple: \\n' + str(err_abs_QR))\n",
    "print('Error absoluto QR Shift: \\n' + str(err_abs_shQR))"
   ]
  },
  {
   "cell_type": "markdown",
   "metadata": {},
   "source": [
    "**Error relativo:**"
   ]
  },
  {
   "cell_type": "code",
   "execution_count": 4,
   "metadata": {},
   "outputs": [
    {
     "name": "stdout",
     "output_type": "stream",
     "text": [
      "Error relativo QR Simple: \n",
      "[1.04910088e-15 3.36170502e-16 3.55003718e-15 3.74226059e-16\n",
      " 3.97076283e-15 0.00000000e+00 3.06526811e-15 1.93219313e-15\n",
      " 2.03944571e-15 5.10010441e-16 1.52496224e-15 2.52612633e-15\n",
      " 0.00000000e+00 5.89967253e-16 2.36765448e-15 2.76127153e-15\n",
      " 2.68750931e-15 3.23970951e-15 1.08996871e-14 9.21379574e-15\n",
      " 1.00386608e-14 9.79065872e-15 3.64179474e-15 1.19406927e-02\n",
      " 1.17997949e-02]\n",
      "Error relativo QR Shift: \n",
      "[6.32780931e-10 1.08142218e-09 3.01753160e-15 2.02399540e-10\n",
      " 4.45634742e-10 2.17450208e-07 1.00614117e-07 3.96517336e-06\n",
      " 4.87476920e-09 9.93105756e-06 4.95975685e-06 2.39931449e-06\n",
      " 1.22401079e-05 6.71887966e-06 6.24796866e-06 1.03848148e-06\n",
      " 3.16177566e-16 1.70511027e-15 5.44984353e-16 9.59770390e-16\n",
      " 6.02319648e-16 2.08311888e-16 6.42669660e-16 1.19406927e-02\n",
      " 1.17997949e-02]\n"
     ]
    }
   ],
   "source": [
    "print('Error relativo QR Simple: \\n' + str(err_rel_QR))\n",
    "print('Error relativo QR Shift: \\n' + str(err_rel_shQR))"
   ]
  },
  {
   "cell_type": "markdown",
   "metadata": {},
   "source": [
    "Para ver de manera mas clara los errores, compararemos con los valores reales utilizando la norma 2 de los vectores de error:"
   ]
  },
  {
   "cell_type": "code",
   "execution_count": 5,
   "metadata": {},
   "outputs": [
    {
     "data": {
      "text/latex": [
       "QR simple: $\\quad\\epsilon_{abs} = $ 0.00847687330084258"
      ],
      "text/plain": [
       "<IPython.core.display.Latex object>"
      ]
     },
     "execution_count": 5,
     "metadata": {},
     "output_type": "execute_result"
    }
   ],
   "source": [
    "Latex('QR simple: $\\quad\\epsilon_{abs} = $ ' + str(linear.norm(err_abs_QR)))"
   ]
  },
  {
   "cell_type": "code",
   "execution_count": 6,
   "metadata": {},
   "outputs": [
    {
     "data": {
      "text/latex": [
       "QR con shift dinámico: $\\quad\\epsilon_{abs} = $ 0.008476915844806674"
      ],
      "text/plain": [
       "<IPython.core.display.Latex object>"
      ]
     },
     "execution_count": 6,
     "metadata": {},
     "output_type": "execute_result"
    }
   ],
   "source": [
    "Latex('QR con shift dinámico: $\\quad\\epsilon_{abs} = $ ' + str(linear.norm(err_abs_shQR)))"
   ]
  },
  {
   "cell_type": "code",
   "execution_count": 7,
   "metadata": {
    "scrolled": true
   },
   "outputs": [
    {
     "data": {
      "text/latex": [
       "QR simple: $\\quad\\epsilon_{rel} = $ 0.016787355420100413"
      ],
      "text/plain": [
       "<IPython.core.display.Latex object>"
      ]
     },
     "execution_count": 7,
     "metadata": {},
     "output_type": "execute_result"
    }
   ],
   "source": [
    "Latex('QR simple: $\\quad\\epsilon_{rel} = $ ' + str(linear.norm(err_rel_QR)))"
   ]
  },
  {
   "cell_type": "code",
   "execution_count": 8,
   "metadata": {},
   "outputs": [
    {
     "data": {
      "text/latex": [
       "QR con shift dinámico: $\\quad\\epsilon_{rel} =$ 0.01678736673339094"
      ],
      "text/plain": [
       "<IPython.core.display.Latex object>"
      ]
     },
     "execution_count": 8,
     "metadata": {},
     "output_type": "execute_result"
    }
   ],
   "source": [
    "Latex('QR con shift dinámico: $\\quad\\epsilon_{rel} =$ ' + str(linear.norm(err_rel_shQR)))"
   ]
  },
  {
   "cell_type": "markdown",
   "metadata": {},
   "source": [
    "Nótese que en ambos casos el método de QR simple logra una mejor aproximación. Pero vemos que..."
   ]
  },
  {
   "cell_type": "code",
   "execution_count": 9,
   "metadata": {},
   "outputs": [
    {
     "name": "stdout",
     "output_type": "stream",
     "text": [
      "Iteraciones QR simple: 1571\n",
      "Iteraciones QR shift dinamico: 20\n"
     ]
    }
   ],
   "source": [
    "print('Iteraciones QR simple: '+str(QR_iter))\n",
    "print('Iteraciones QR shift dinamico: '+str(shQR_iter))"
   ]
  },
  {
   "cell_type": "markdown",
   "metadata": {},
   "source": [
    "El método de QR simple hace casi 80 veces el número de iteraciones que el QR con shift! Y aún así ambas aproximaciones son bastante buenas.\n",
    "\n",
    "Veamos que pasa si limitamos el método de QR simplemente a 20 iteraciones:"
   ]
  },
  {
   "cell_type": "code",
   "execution_count": 10,
   "metadata": {},
   "outputs": [],
   "source": [
    "QR_eig, QR_iter = simpleQR(fiedler(25), maxIter=20, tol=1e-10)\n",
    "err_abs_QR = abs(QR_eig - actual)\n",
    "err_rel_QR = abs((QR_eig - actual) / actual)"
   ]
  },
  {
   "cell_type": "code",
   "execution_count": 11,
   "metadata": {},
   "outputs": [
    {
     "data": {
      "text/latex": [
       "QR simple (20 iteraciones): $\\quad\\epsilon_{abs} = $ 0.1402924694363105"
      ],
      "text/plain": [
       "<IPython.core.display.Latex object>"
      ]
     },
     "execution_count": 11,
     "metadata": {},
     "output_type": "execute_result"
    }
   ],
   "source": [
    "Latex('QR simple (20 iteraciones): $\\quad\\epsilon_{abs} = $ ' + str(linear.norm(err_abs_QR)))"
   ]
  },
  {
   "cell_type": "code",
   "execution_count": 12,
   "metadata": {},
   "outputs": [
    {
     "data": {
      "text/latex": [
       "QR con shift dinámico: $\\quad\\epsilon_{abs} = $ 0.008476915844806674"
      ],
      "text/plain": [
       "<IPython.core.display.Latex object>"
      ]
     },
     "execution_count": 12,
     "metadata": {},
     "output_type": "execute_result"
    }
   ],
   "source": [
    "Latex('QR con shift dinámico: $\\quad\\epsilon_{abs} = $ ' + str(linear.norm(err_abs_shQR)))"
   ]
  },
  {
   "cell_type": "code",
   "execution_count": 13,
   "metadata": {
    "scrolled": true
   },
   "outputs": [
    {
     "data": {
      "text/latex": [
       "QR simple (20 iteraciones): $\\quad\\epsilon_{rel} = $ 0.16155309127644163"
      ],
      "text/plain": [
       "<IPython.core.display.Latex object>"
      ]
     },
     "execution_count": 13,
     "metadata": {},
     "output_type": "execute_result"
    }
   ],
   "source": [
    "Latex('QR simple (20 iteraciones): $\\quad\\epsilon_{rel} = $ ' + str(linear.norm(err_rel_QR)))"
   ]
  },
  {
   "cell_type": "code",
   "execution_count": 14,
   "metadata": {},
   "outputs": [
    {
     "data": {
      "text/latex": [
       "QR con shift dinámico: $\\quad\\epsilon_{rel} =$ 0.01678736673339094"
      ],
      "text/plain": [
       "<IPython.core.display.Latex object>"
      ]
     },
     "execution_count": 14,
     "metadata": {},
     "output_type": "execute_result"
    }
   ],
   "source": [
    "Latex('QR con shift dinámico: $\\quad\\epsilon_{rel} =$ ' + str(linear.norm(err_rel_shQR)))"
   ]
  },
  {
   "cell_type": "markdown",
   "metadata": {},
   "source": [
    "Nótese que el error absoluto ahora el mucho mayor, y el error relativo es 10 mayor!"
   ]
  },
  {
   "cell_type": "markdown",
   "metadata": {},
   "source": [
    "Si no limitamos el número de iteraciones, observamos que:"
   ]
  },
  {
   "cell_type": "code",
   "execution_count": 15,
   "metadata": {},
   "outputs": [],
   "source": [
    "QR_eig, QR_iter = simpleQR(fiedler(25), maxIter=10000,  tol=1e-10)\n",
    "shQR_eig, shQR_iter = shiftQR(fiedler(25), tol=1e-10)\n",
    "err_rel_QR = abs((QR_eig - actual) / actual)\n",
    "err_rel_shQR = abs((shQR_eig - actual) / actual)"
   ]
  },
  {
   "cell_type": "code",
   "execution_count": 16,
   "metadata": {
    "scrolled": true
   },
   "outputs": [
    {
     "data": {
      "text/latex": [
       "QR simple: $\\quad\\epsilon_{rel} = $ 0.016787355420100413"
      ],
      "text/plain": [
       "<IPython.core.display.Latex object>"
      ]
     },
     "execution_count": 16,
     "metadata": {},
     "output_type": "execute_result"
    }
   ],
   "source": [
    "Latex('QR simple: $\\quad\\epsilon_{rel} = $ ' + str(linear.norm(err_rel_QR)))"
   ]
  },
  {
   "cell_type": "code",
   "execution_count": 17,
   "metadata": {},
   "outputs": [
    {
     "data": {
      "text/latex": [
       "QR con shift dinámico: $\\quad\\epsilon_{rel} =$ 0.016787355420088787"
      ],
      "text/plain": [
       "<IPython.core.display.Latex object>"
      ]
     },
     "execution_count": 17,
     "metadata": {},
     "output_type": "execute_result"
    }
   ],
   "source": [
    "Latex('QR con shift dinámico: $\\quad\\epsilon_{rel} =$ ' + str(linear.norm(err_rel_shQR)))"
   ]
  },
  {
   "cell_type": "markdown",
   "metadata": {},
   "source": [
    "Debido a que ambos metodos cumplen el criterio de tolerancia $10^{-10}$, sabemos que ambos errores relativos son practicamente iguales. Pero observemos el numero de iteraciones:"
   ]
  },
  {
   "cell_type": "code",
   "execution_count": 18,
   "metadata": {},
   "outputs": [
    {
     "name": "stdout",
     "output_type": "stream",
     "text": [
      "Iteraciones QR simple:1571\n",
      "Iteraciones QR shift dinamico:38\n"
     ]
    }
   ],
   "source": [
    "print('Iteraciones QR simple:'+str(QR_iter))\n",
    "print('Iteraciones QR shift dinamico:'+str(shQR_iter))"
   ]
  },
  {
   "cell_type": "code",
   "execution_count": 19,
   "metadata": {},
   "outputs": [
    {
     "data": {
      "text/latex": [
       "$$\\frac{i_{QRsimple}}{i_{QRshift}} = 41.3421052631579$$"
      ],
      "text/plain": [
       "<IPython.core.display.Latex object>"
      ]
     },
     "execution_count": 19,
     "metadata": {},
     "output_type": "execute_result"
    }
   ],
   "source": [
    "Latex('$$\\\\frac{i_{QRsimple}}{i_{QRshift}} = ' + str(QR_iter/shQR_iter)+'$$')"
   ]
  },
  {
   "cell_type": "markdown",
   "metadata": {},
   "source": [
    "El método de QR simple hace más de 40 veces el número de iteraciones!"
   ]
  }
 ],
 "metadata": {
  "anaconda-cloud": {},
  "kernelspec": {
   "display_name": "Python 3",
   "language": "python",
   "name": "python3"
  },
  "language_info": {
   "codemirror_mode": {
    "name": "ipython",
    "version": 3
   },
   "file_extension": ".py",
   "mimetype": "text/x-python",
   "name": "python",
   "nbconvert_exporter": "python",
   "pygments_lexer": "ipython3",
   "version": "3.6.4"
  }
 },
 "nbformat": 4,
 "nbformat_minor": 1
}
