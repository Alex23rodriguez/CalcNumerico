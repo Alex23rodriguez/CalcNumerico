{
 "cells": [
  {
   "cell_type": "code",
   "execution_count": 1,
   "metadata": {},
   "outputs": [],
   "source": [
    "import sys\n",
    "sys.path.append('../')\n",
    "from IPython.display import Latex\n",
    "import latexStrings as ls\n",
    "import numpy as np\n",
    "import scipy.linalg as linear\n",
    "import eigenvalues as ev"
   ]
  },
  {
   "cell_type": "markdown",
   "metadata": {},
   "source": [
    "# Ejercicio 2.1"
   ]
  },
  {
   "cell_type": "markdown",
   "metadata": {},
   "source": [
    "Utilizando la matriz $A$ y el vector $q_0$ del ejercicio anterior definidos como sigue:"
   ]
  },
  {
   "cell_type": "code",
   "execution_count": 2,
   "metadata": {},
   "outputs": [
    {
     "data": {
      "text/latex": [
       "\\[ \n",
       "A = \n",
       "\\begin{pmatrix} \n",
       "1 & 1 & 2 \\\\ \n",
       "-1 & 9 & 3 \\\\ \n",
       "0 & -1 & 3 \\\\ \n",
       "\\end{pmatrix}\n",
       " \\]\\[ \n",
       " \\vec{q_0} = \n",
       "\\begin{pmatrix} \n",
       "1 \\\\ \n",
       "1 \\\\ \n",
       "1 \\\\ \n",
       "\\end{pmatrix}\n",
       " \\]"
      ],
      "text/plain": [
       "<IPython.core.display.Latex object>"
      ]
     },
     "execution_count": 2,
     "metadata": {},
     "output_type": "execute_result"
    }
   ],
   "source": [
    "A = np.array([[1,1,2],[-1,9,3],[0,-1,3]])\n",
    "q = np.array([1,1,1])\n",
    "\n",
    "Latex(ls.latexMatrix(A,'A') + ls.latexVector(q,'q_0'))"
   ]
  },
  {
   "cell_type": "markdown",
   "metadata": {},
   "source": [
    "Se calcularán 10 iteraciones del método de la potencia con shift $\\rho_1$ y $\\rho_2$ y donde $\\overrightarrow{q}_{10}$ es el vector que se aporxima al eigenvector y $\\sigma_{10}$ el eigenvalor aproximado después de 10 iteraciones.\n"
   ]
  },
  {
   "cell_type": "markdown",
   "metadata": {},
   "source": [
    "Para $\\rho_1=0$, que es simplemente aplicar el método de la potencia inversa, se obtiene:"
   ]
  },
  {
   "cell_type": "code",
   "execution_count": 3,
   "metadata": {
    "scrolled": false
   },
   "outputs": [
    {
     "data": {
      "text/latex": [
       "Numero de Iteraciones: 10\\[ \n",
       " \\vec{q_{10}} = \n",
       "\\begin{pmatrix} \n",
       "0.992719 \\\\ \n",
       "0.104174 \\\\ \n",
       "0.060466 \\\\ \n",
       "\\end{pmatrix}\n",
       " \\]$$\\sigma_{10} = 1.2267894261411831$$"
      ],
      "text/plain": [
       "<IPython.core.display.Latex object>"
      ]
     },
     "execution_count": 3,
     "metadata": {},
     "output_type": "execute_result"
    }
   ],
   "source": [
    "[q10, l10 ,iterations]=ev.inversePowerShift(A,q,0,1e-6,10)\n",
    "Latex('Numero de Iteraciones: ' + str(iterations) + ls.latexVector(q10,'q_{10}', form='%f') + '$$\\sigma_{10} = '+str(l10)+'$$')"
   ]
  },
  {
   "cell_type": "markdown",
   "metadata": {},
   "source": [
    "Comparemos los resultados anteriores con los valores \"exactos\" calculados por el paquete _scipy.linalg_:"
   ]
  },
  {
   "cell_type": "code",
   "execution_count": 4,
   "metadata": {
    "scrolled": true
   },
   "outputs": [
    {
     "data": {
      "text/latex": [
       "\\[ \n",
       " \\vec{\\lambda} = \n",
       "\\begin{pmatrix} \n",
       "8.354545 \\\\ \n",
       "3.420784 \\\\ \n",
       "1.224672 \\\\ \n",
       "\\end{pmatrix}\n",
       " \\]\\[ \n",
       "V = \n",
       "\\begin{pmatrix} \n",
       "0.083444 & 0.515311 & -0.992728 \\\\ \n",
       "0.979576 & -0.332386 & -0.104882 \\\\ \n",
       "-0.182943 & 0.789921 & -0.059078 \\\\ \n",
       "\\end{pmatrix}\n",
       " \\]"
      ],
      "text/plain": [
       "<IPython.core.display.Latex object>"
      ]
     },
     "execution_count": 4,
     "metadata": {},
     "output_type": "execute_result"
    }
   ],
   "source": [
    "[L,V] = linear.eig(A)\n",
    "[L,V] = ev.pairSort(L,V)\n",
    "Latex(ls.latexVector(L,'\\lambda',form='%f') + ls.latexMatrix(V,'V',form='%f'))"
   ]
  },
  {
   "cell_type": "markdown",
   "metadata": {},
   "source": [
    "$\\overrightarrow{\\lambda}$ es el vector que contiene a los tres eigenvalores \"exactos\" de la matriz $A$  ordenados por magnitud y las columnas de la matriz $V$ son los eigenvectores \"exactos\" de $A$."
   ]
  },
  {
   "cell_type": "markdown",
   "metadata": {},
   "source": [
    "Se observa que $\\sigma_{10}=1.22678942614$ tiene dos decimales iguales a $\\lambda_{3}=1.224672$ , la tercera entrada de $\\overrightarrow{\\lambda}$. El método de la potencia inversa converge teóricamente al menor eigenpar de $A$ bajo las siguientes condiciones:\n",
    "1. $A$ tiene un menor eigenvalor, es decir $|\\lambda_1| > |\\lambda_2| > |\\lambda_3|$ (En este caso 1.2246)\n",
    "2. $\\vec{q}_0$ puede ser escrito como combinacion lineal de los eigenvectores de A con los coeficientes de $\\vec{v}_2$ y $\\vec{v}_3$ distintos de 0. En este caso,  $\\vec{q}_0$ claramente no es ortogonal a los vectores de la matriz $V$, por lo tanto ninguno de los coeficientes de la combinacion lineal sera 0."
   ]
  },
  {
   "cell_type": "markdown",
   "metadata": {},
   "source": [
    "Ahora comparemos $\\vec{v}_3$, el eigenvector asignado a $\\lambda_3$, con $\\vec{q}_{10}$."
   ]
  },
  {
   "cell_type": "code",
   "execution_count": 5,
   "metadata": {
    "scrolled": false
   },
   "outputs": [
    {
     "data": {
      "text/latex": [
       "\\[ \n",
       " \\vec{v_3} = \n",
       "\\begin{pmatrix} \n",
       "-0.992728 \\\\ \n",
       "-0.104882 \\\\ \n",
       "-0.059078 \\\\ \n",
       "\\end{pmatrix}\n",
       " \\]\\[ \n",
       " \\vec{q_{10}} = \n",
       "\\begin{pmatrix} \n",
       "0.992719 \\\\ \n",
       "0.104174 \\\\ \n",
       "0.060466 \\\\ \n",
       "\\end{pmatrix}\n",
       " \\]"
      ],
      "text/plain": [
       "<IPython.core.display.Latex object>"
      ]
     },
     "execution_count": 5,
     "metadata": {},
     "output_type": "execute_result"
    }
   ],
   "source": [
    "v=V[:,2]\n",
    "Latex(ls.latexVector(v, 'v_3', form='%f')+ls.latexVector(q10,'q_{10}', form='%f'))"
   ]
  },
  {
   "cell_type": "markdown",
   "metadata": {},
   "source": [
    "Observamos que $\\overrightarrow{q}_{10}$ es apximadamente $ -\\overrightarrow{v_3}$. Esto se debe a que el método de la potencia  inversa puede converger a $\\pm\\overrightarrow{v_3}$. Entonces de ahora en adelante nos referiremos a $\\overrightarrow{v_3}$ por $-\\overrightarrow{v_3}$ :"
   ]
  },
  {
   "cell_type": "code",
   "execution_count": 6,
   "metadata": {
    "scrolled": true
   },
   "outputs": [
    {
     "data": {
      "text/latex": [
       "\\[ \n",
       " \\vec{v_3} = \n",
       "\\begin{pmatrix} \n",
       "0.992728 \\\\ \n",
       "0.104882 \\\\ \n",
       "0.059078 \\\\ \n",
       "\\end{pmatrix}\n",
       " \\]"
      ],
      "text/plain": [
       "<IPython.core.display.Latex object>"
      ]
     },
     "execution_count": 6,
     "metadata": {},
     "output_type": "execute_result"
    }
   ],
   "source": [
    "v=-v\n",
    "Latex(ls.latexVector(v, 'v_3', form='%f'))"
   ]
  },
  {
   "cell_type": "markdown",
   "metadata": {},
   "source": [
    "Calculamos las razones de convergencia en cada paso de la iteracion, dadas por:\n",
    "$$ \\widetilde{r} = \\{r_i\\}, \\qquad r_i = \\frac{\\Vert q_{i}-v \\Vert_\\infty}{\\Vert q_{i-1}-v \\Vert_\\infty}, \\qquad i\\in \\{1,2,...,10\\} $$"
   ]
  },
  {
   "cell_type": "code",
   "execution_count": 7,
   "metadata": {
    "scrolled": true
   },
   "outputs": [
    {
     "data": {
      "text/latex": [
       "\\[ \n",
       " \\widetilde{r} = \n",
       "\\{ \n",
       "0.752001, 0.966084, 0.853759, 0.678343, 0.495284, 0.404372, 0.373393, 0.363308, 0.359880\\}\n",
       " \\]"
      ],
      "text/plain": [
       "<IPython.core.display.Latex object>"
      ]
     },
     "execution_count": 7,
     "metadata": {},
     "output_type": "execute_result"
    }
   ],
   "source": [
    "ratios=[]\n",
    "prevq=q\n",
    "for i in range(1,10):\n",
    "    [currentq,_,_] = ev.inversePowerShift(A,q,0,1e-6,i)\n",
    "    ratio = linear.norm(currentq-v,np.inf)/linear.norm(prevq-v,np.inf)\n",
    "    ratios.append(ratio)\n",
    "    prevq = currentq\n",
    "Latex(ls.latexList(ratios,'\\widetilde{r}', form='%f'))"
   ]
  },
  {
   "cell_type": "markdown",
   "metadata": {},
   "source": [
    "Ahora veamos la razon de convergencia teórica, dada por:\n",
    "$$ r = \\left| \\frac{\\lambda_3}{\\lambda_2} \\right| = 0.35800909831776 $$"
   ]
  },
  {
   "cell_type": "markdown",
   "metadata": {},
   "source": [
    "Se oberva que, en efecto, $r_{10}$ = $0.359880$ es aproximademente la razón teórica $r=0.35800909831776$ "
   ]
  },
  {
   "cell_type": "markdown",
   "metadata": {
    "collapsed": true
   },
   "source": [
    "# Ejercicio 2.2"
   ]
  },
  {
   "cell_type": "markdown",
   "metadata": {
    "collapsed": true
   },
   "source": [
    "Para la misma matriz $A$ y vector $q_0$ defininidos anteriormente, se realizarán las mismas pruebas para un shift $\\rho_2=3.3$. Se encontrarán nuevos: vector $\\overrightarrow{q}_{10}$, la aproximación de eigenvector, y $\\sigma_{10}$ la aproximación del eigenvalor. "
   ]
  },
  {
   "cell_type": "code",
   "execution_count": 8,
   "metadata": {},
   "outputs": [
    {
     "data": {
      "text/latex": [
       "Numero de Iteraciones: 4\\[ \n",
       " \\vec{q_{10}} = \n",
       "\\begin{pmatrix} \n",
       "0.515311 \\\\ \n",
       "-0.332385 \\\\ \n",
       "0.789921 \\\\ \n",
       "\\end{pmatrix}\n",
       " \\]$$\\sigma_{10} = 3.420782623785237$$"
      ],
      "text/plain": [
       "<IPython.core.display.Latex object>"
      ]
     },
     "execution_count": 8,
     "metadata": {},
     "output_type": "execute_result"
    }
   ],
   "source": [
    "[q10, l10 ,iterations]=ev.inversePowerShift(A,q,3.3,1e-6,10)\n",
    "Latex('Numero de Iteraciones: ' + str(iterations)+ls.latexVector(q10,'q_{10}', form='%f') + '$$\\sigma_{10} = '+str(l10)+'$$')"
   ]
  },
  {
   "cell_type": "markdown",
   "metadata": {},
   "source": [
    "La primera observación es que el proceso sólo hizo 4 iteraciones, esto quiere decir que el método alcanzó el criterio de error relativo sin necesidad de hacer las 10 iteraciones. Comparemos los resultados anteriores con los valores \"exactos\" calculados por el paquete _scipy.lingalg_ calculados anteriormente"
   ]
  },
  {
   "cell_type": "code",
   "execution_count": 9,
   "metadata": {
    "scrolled": false
   },
   "outputs": [
    {
     "data": {
      "text/latex": [
       "\\[ \n",
       " \\vec{\\lambda} = \n",
       "\\begin{pmatrix} \n",
       "8.354545 \\\\ \n",
       "3.420784 \\\\ \n",
       "1.224672 \\\\ \n",
       "\\end{pmatrix}\n",
       " \\]\\[ \n",
       "V = \n",
       "\\begin{pmatrix} \n",
       "0.083444 & 0.515311 & -0.992728 \\\\ \n",
       "0.979576 & -0.332386 & -0.104882 \\\\ \n",
       "-0.182943 & 0.789921 & -0.059078 \\\\ \n",
       "\\end{pmatrix}\n",
       " \\]"
      ],
      "text/plain": [
       "<IPython.core.display.Latex object>"
      ]
     },
     "execution_count": 9,
     "metadata": {},
     "output_type": "execute_result"
    }
   ],
   "source": [
    "Latex(ls.latexVector(L,'\\lambda',form='%f') + ls.latexMatrix(V,'V',form='%f'))"
   ]
  },
  {
   "cell_type": "markdown",
   "metadata": {},
   "source": [
    "El vector $\\overrightarrow{q}_{10}$ es aproximadamente al eigenvector \"exacto\" $\\overrightarrow{v_{2}}$, segunda columna de la matriz $V$. Ademas, el valor $\\sigma_{10}$  tiene 5 cifras decimales iguales al eigenvalor \"exacto\" $\\lambda_2$."
   ]
  },
  {
   "cell_type": "markdown",
   "metadata": {},
   "source": [
    "Observamos lo siguiente:\n",
    "$$|\\lambda_2-\\rho_2|<|\\lambda_3-\\rho_2|<|\\lambda_1-\\rho_2| \\Rightarrow |\\lambda_2-\\rho_2|^{-1}>|\\lambda_3-\\rho_2|^{-1}>|\\lambda_1-\\rho_2|^{-1}$$"
   ]
  },
  {
   "cell_type": "markdown",
   "metadata": {},
   "source": [
    "Con un razonamiento similar al ejercicio anterior, al tener la desigualdad anterior, el método de la potencia inversa con shift $\\rho_2=3.3$ cumple una de las hipótesis y el converge al valor $(\\lambda_2-\\rho_2)^{-1}$ y el eigenvector asignado $\\overrightarrow{v}_2$. Luego con un simple despeje obtenemos $\\lambda_2$ y con ello el eigenpar de $A$ $(\\lambda_2,\\overrightarrow{v}_2)$."
   ]
  },
  {
   "cell_type": "markdown",
   "metadata": {},
   "source": [
    "Nuevamente, el vector inicial $\\overrightarrow{q_{0}}$ no es ortogonal a ninguno de los vectores de la matriz $V$, por lo tanto $\\overrightarrow{q_{0}}$ se puede escribir como combinanción lineal de los vectores de $V$ con coeficientes todos distintos de 0, cumpliendo la segunda hipótesis del metodo, justificando asi la convergencia."
   ]
  },
  {
   "cell_type": "markdown",
   "metadata": {},
   "source": [
    "Calculamos las razones de convergencia en cada paso de la iteracion, dadas por:\n",
    "$$ \\widetilde{r} = \\{r_i\\}, \\qquad r_i = \\frac{\\Vert q_{i}-v \\Vert_\\infty}{\\Vert q_{i-1}-v \\Vert_\\infty}, \\qquad i\\in \\{1,2,...,10\\} $$"
   ]
  },
  {
   "cell_type": "code",
   "execution_count": 10,
   "metadata": {},
   "outputs": [
    {
     "data": {
      "text/latex": [
       "\\[ \n",
       " \\widetilde{r} = \n",
       "\\{ \n",
       "0.014461, 0.024879, 0.020834, 0.032431, 0.021112, 0.085590, 0.050552, 0.061824, 0.056628, 0.062165\\}\n",
       " \\]"
      ],
      "text/plain": [
       "<IPython.core.display.Latex object>"
      ]
     },
     "execution_count": 10,
     "metadata": {},
     "output_type": "execute_result"
    }
   ],
   "source": [
    "ratios=[]\n",
    "v=V[:,1]\n",
    "prevq=q\n",
    "for i in range(1,11):\n",
    "    [currentq,_,_] = ev.inversePowerShift(A,q,3.3,0,i)\n",
    "    ratio = linear.norm(currentq-v,np.inf)/linear.norm(prevq-v,np.inf)\n",
    "    ratios.append(ratio)\n",
    "    prevq = currentq\n",
    "Latex(ls.latexList(ratios,'\\widetilde{r}', form='%f'))"
   ]
  },
  {
   "cell_type": "markdown",
   "metadata": {},
   "source": [
    "Ahora veamos la razon de convergencia teórica, dada por:\n",
    "$$ r = \\left| \\frac{\\lambda_2-\\rho_2}{\\lambda_3-\\rho_2} \\right| = 0.05819972269618957 $$"
   ]
  },
  {
   "cell_type": "markdown",
   "metadata": {},
   "source": [
    "Observamos que las razones  $r_i$ comienzan a oscilar alrededor de $r=0.05819972269618957$ (razón teórica)  desde $i=7$. Esto se debe a que como el método converge rápidamente y con más iteraciones la aproximación se vuelve prácticamente igual al eigenpar busacado. De hecho, si aumentamos las razones calculadas, veremos que:"
   ]
  },
  {
   "cell_type": "code",
   "execution_count": 11,
   "metadata": {},
   "outputs": [
    {
     "data": {
      "text/latex": [
       "\\[ \n",
       " \\widetilde{r}_{10-20} = \n",
       "\\{ \n",
       "0.062165, 0.172414, 1.100000, 1.045455, 0.913043, 1.095238, 0.913043, 1.095238, 0.913043, 1.095238, 0.913043\\}\n",
       " \\]"
      ],
      "text/plain": [
       "<IPython.core.display.Latex object>"
      ]
     },
     "execution_count": 11,
     "metadata": {},
     "output_type": "execute_result"
    }
   ],
   "source": [
    "for i in range(11,21):\n",
    "    [currentq,_,_] = ev.inversePowerShift(A,q,3.3,0,i)\n",
    "    ratio = linear.norm(currentq-v,np.inf)/linear.norm(prevq-v,np.inf)\n",
    "    ratios.append(ratio)\n",
    "    prevq = currentq\n",
    "Latex(ls.latexList(ratios[9:20],'\\widetilde{r}_{10-20}', form='%f'))"
   ]
  },
  {
   "cell_type": "markdown",
   "metadata": {},
   "source": [
    "La razones de la práctica empiezan a acercarse a 1. Esto se debe a que $\\vec{q}_{i}-\\vec{v}$ es casi igual a  $\\vec{q}_{i-1}-\\vec{v}$ por lo que la razón se acerca a 1."
   ]
  }
 ],
 "metadata": {
  "kernelspec": {
   "display_name": "Python 3",
   "language": "python",
   "name": "python3"
  },
  "language_info": {
   "codemirror_mode": {
    "name": "ipython",
    "version": 3
   },
   "file_extension": ".py",
   "mimetype": "text/x-python",
   "name": "python",
   "nbconvert_exporter": "python",
   "pygments_lexer": "ipython3",
   "version": "3.6.4"
  }
 },
 "nbformat": 4,
 "nbformat_minor": 2
}
