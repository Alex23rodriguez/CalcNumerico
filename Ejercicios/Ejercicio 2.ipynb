{
 "cells": [
  {
   "cell_type": "code",
   "execution_count": 1,
   "metadata": {},
   "outputs": [],
   "source": [
    "import sys\n",
    "sys.path.append('../')\n",
    "from IPython.display import Latex\n",
    "import latexStrings as ls\n",
    "import numpy as np\n",
    "import scipy.linalg as linear\n",
    "import eigenvalues as ev"
   ]
  },
  {
   "cell_type": "markdown",
   "metadata": {},
   "source": [
    "# Ejercicio 2.1"
   ]
  },
  {
   "cell_type": "markdown",
   "metadata": {},
   "source": [
    "Utilizando la matriz $A$ y el vector $q_0$ del ejercicio anterior definidos como sigue:"
   ]
  },
  {
   "cell_type": "code",
   "execution_count": 2,
   "metadata": {},
   "outputs": [
    {
     "data": {
      "text/latex": [
       "\\[ \n",
       "A = \n",
       "\\begin{pmatrix} \n",
       "1 & 1 & 2 \\\\ \n",
       "-1 & 9 & 3 \\\\ \n",
       "0 & -1 & 3 \\\\ \n",
       "\\end{pmatrix}\n",
       " \\]\\[ \n",
       " \\vec{q_0} = \n",
       "\\begin{pmatrix} \n",
       "1 \\\\ \n",
       "1 \\\\ \n",
       "1 \\\\ \n",
       "\\end{pmatrix}\n",
       " \\]"
      ],
      "text/plain": [
       "<IPython.core.display.Latex object>"
      ]
     },
     "execution_count": 2,
     "metadata": {},
     "output_type": "execute_result"
    }
   ],
   "source": [
    "A = np.array([[1,1,2],[-1,9,3],[0,-1,3]])\n",
    "q = np.array([1,1,1])\n",
    "\n",
    "Latex(ls.latexMatrix(A,'A') + ls.latexVector(q,'q_0'))"
   ]
  },
  {
   "cell_type": "markdown",
   "metadata": {},
   "source": [
    "Se calcularán 10 iteraciones del método de la potencia con $shift$ $\\rho_1$ y $\\rho_2$ y donde $\\overrightarrow{q}_{10}$ es el vector que se aporxima al eigenvector y $\\sigma_{10}$ el eigenvalor aproximado después de 10 iteraciones.\n"
   ]
  },
  {
   "cell_type": "markdown",
   "metadata": {},
   "source": [
    "Para $\\rho_1=0$, que es simplemente aplicar el método de la potencia inversa, se obtiene:"
   ]
  },
  {
   "cell_type": "code",
   "execution_count": 3,
   "metadata": {},
   "outputs": [
    {
     "name": "stdout",
     "output_type": "stream",
     "text": [
      "Numero de Iteraciones: 10\n"
     ]
    },
    {
     "data": {
      "text/latex": [
       "\\[ \n",
       " \\vec{q_{10}} = \n",
       "\\begin{pmatrix} \n",
       "0.992719 \\\\ \n",
       "0.104174 \\\\ \n",
       "0.060466 \\\\ \n",
       "\\end{pmatrix}\n",
       " \\]$$\\sigma_{10} = 1.2267894261411831$$"
      ],
      "text/plain": [
       "<IPython.core.display.Latex object>"
      ]
     },
     "execution_count": 3,
     "metadata": {},
     "output_type": "execute_result"
    }
   ],
   "source": [
    "[q10, l10 ,iterations]=ev.inversePowerShift(A,q,0,1e-6,10)\n",
    "print('Numero de Iteraciones: ' + str(iterations))\n",
    "Latex(ls.latexVector(q10,'q_{10}', form='%f') + '$$\\sigma_{10} = '+str(l10)+'$$')"
   ]
  },
  {
   "cell_type": "markdown",
   "metadata": {},
   "source": [
    "Comparemos los resultados anteriores con los valores \"exactos\" calculados por el paquete 'linalg' de 'scipy':"
   ]
  },
  {
   "cell_type": "code",
   "execution_count": 4,
   "metadata": {},
   "outputs": [
    {
     "data": {
      "text/latex": [
       "\\[ \n",
       " \\vec{\\lambda} = \n",
       "\\begin{pmatrix} \n",
       "8.354545 \\\\ \n",
       "1.224672 \\\\ \n",
       "3.420784 \\\\ \n",
       "\\end{pmatrix}\n",
       " \\]\\[ \n",
       "V = \n",
       "\\begin{pmatrix} \n",
       "0.083444 & -0.992728 & 0.515311 \\\\ \n",
       "0.979576 & -0.104882 & -0.332386 \\\\ \n",
       "-0.182943 & -0.059078 & 0.789921 \\\\ \n",
       "\\end{pmatrix}\n",
       " \\]"
      ],
      "text/plain": [
       "<IPython.core.display.Latex object>"
      ]
     },
     "execution_count": 4,
     "metadata": {},
     "output_type": "execute_result"
    }
   ],
   "source": [
    "[L,V] = linear.eig(A)\n",
    "Latex(ls.latexVector(L,'\\lambda',form='%f') + ls.latexMatrix(V,'V',form='%f'))\n"
   ]
  },
  {
   "cell_type": "markdown",
   "metadata": {},
   "source": [
    "$\\overrightarrow{\\lambda}$ es el vector que contiene a los tres eigenvalores \"exactos\" de la matriz $A$ y las columnas de la matriz $V$ son los eigenvectores \"exactos\" de $A$."
   ]
  },
  {
   "cell_type": "markdown",
   "metadata": {},
   "source": [
    "Obervamos lo siguiente: $$|\\lambda_2|<|\\lambda_3|<|\\lambda_1| \\Rightarrow |\\lambda_2|^{-1}>|\\lambda_3|^{-1}>|\\lambda_1|^{-1}$$ donde $\\lambda_i$ con $i \\in \\{1,2,3\\} $ es la i-ésima entrada de $\\overrightarrow{\\lambda}$"
   ]
  },
  {
   "cell_type": "markdown",
   "metadata": {},
   "source": [
    "Se observa que $\\sigma_{10}=1.22678942614$ tiene dos decimales iguales a $\\lambda_{2}=1.224672$ , la segunda entrada de $\\overrightarrow{\\lambda}$.El método converge teóricamente al eigenpar dominante, en este caso $(\\lambda_{2}^{-1},\\overrightarrow{v_2})$, dado que se usa el método de la potencia inversa y se tiene  $|\\lambda_2|^{-1}>|\\lambda_3|^{-1}>|\\lambda_1|^{-1}$  entonces el método cumple una de las hipótesis y debería converger al eigenpar deseado.\n"
   ]
  },
  {
   "cell_type": "markdown",
   "metadata": {},
   "source": [
    "Por otro lado, el vector inicial $\\overrightarrow{q_{0}}$ claramente no es ortogonal a los vectores de la matriz $V$, por lo tanto $\\overrightarrow{q_{0}}$ se puede escribir como combinanción lineal de los vectores de $V$, es decir que no todas las constantes asociadas a la combinación lineal son iguales cero. En particular se cumple la segunda hipótesis de que $c_2$ la constante de la combinación lineal asociada a $\\overrightarrow{v_2}$ es diferente de cero para que el método converja al eigenpar $(\\lambda_{2}^{-1},\\overrightarrow{v_2})$ y obtengamos $(\\lambda_{2},\\overrightarrow{v_2})$. De la matriz $V$ tomamos $\\overrightarrow{v_2}$, el eigenvector asignado a $\\lambda_2$, y lo comparamos con $\\overrightarrow{q}_{10}$."
   ]
  },
  {
   "cell_type": "code",
   "execution_count": 5,
   "metadata": {
    "scrolled": true
   },
   "outputs": [
    {
     "data": {
      "text/latex": [
       "\\[ \n",
       " \\vec{v_2} = \n",
       "\\begin{pmatrix} \n",
       "-0.992728 \\\\ \n",
       "-0.104882 \\\\ \n",
       "-0.059078 \\\\ \n",
       "\\end{pmatrix}\n",
       " \\]\\[ \n",
       " \\vec{q_{10}} = \n",
       "\\begin{pmatrix} \n",
       "0.992719 \\\\ \n",
       "0.104174 \\\\ \n",
       "0.060466 \\\\ \n",
       "\\end{pmatrix}\n",
       " \\]"
      ],
      "text/plain": [
       "<IPython.core.display.Latex object>"
      ]
     },
     "execution_count": 5,
     "metadata": {},
     "output_type": "execute_result"
    }
   ],
   "source": [
    "v=V[:,1]\n",
    "Latex(ls.latexVector(v, 'v_2', form='%f')+ls.latexVector(q10,'q_{10}', form='%f'))\n"
   ]
  },
  {
   "cell_type": "markdown",
   "metadata": {},
   "source": [
    "Observamos que $\\overrightarrow{q}_{10}$ es apximadamente $ -\\overrightarrow{v_2}$, esto se debe a que el método de la potencia converge a $c_2\\overrightarrow{v_2}$, donde $c_2$ es una constante diferente de cero. Entonces de ahora en adelante nos referiremos a $\\overrightarrow{v_2}$ por   $-\\overrightarrow{v_2}$ :"
   ]
  },
  {
   "cell_type": "code",
   "execution_count": 6,
   "metadata": {},
   "outputs": [],
   "source": [
    "v=-v"
   ]
  },
  {
   "cell_type": "code",
   "execution_count": 7,
   "metadata": {},
   "outputs": [
    {
     "data": {
      "text/latex": [
       "\\[ \n",
       " \\vec{v_2} = \n",
       "\\begin{pmatrix} \n",
       "0.992728 \\\\ \n",
       "0.104882 \\\\ \n",
       "0.059078 \\\\ \n",
       "\\end{pmatrix}\n",
       " \\]"
      ],
      "text/plain": [
       "<IPython.core.display.Latex object>"
      ]
     },
     "execution_count": 7,
     "metadata": {},
     "output_type": "execute_result"
    }
   ],
   "source": [
    "Latex(ls.latexVector(v, 'v_2', form='%f'))"
   ]
  },
  {
   "cell_type": "markdown",
   "metadata": {},
   "source": [
    "Calculando las razones de convergencia en cada paso de la iteracion, dadas por:\n",
    "$$  \\widetilde{r}_i  = \\frac{\\Vert q_{i}-v \\Vert_\\infty}{\\Vert q_{i-1}-v \\Vert_\\infty} \\qquad i\\in \\{1,2,...,10\\} $$\n",
    "Para luego poder comparar esto con la razon de convergencia teórica, dada por:\n",
    "$$ r = \\left| \\frac{\\lambda_2}{\\lambda_3} \\right| = 0.35800909831776 $$\n",
    "donde: $$|\\lambda_2|<|\\lambda_3|<|\\lambda_1| \\Rightarrow |\\lambda_2|^{-1}>|\\lambda_3|^{-1}>|\\lambda_1|^{-1}$$\n"
   ]
  },
  {
   "cell_type": "code",
   "execution_count": 8,
   "metadata": {
    "scrolled": true
   },
   "outputs": [
    {
     "data": {
      "text/latex": [
       "\\[ \n",
       " \\widetilde{r} = \n",
       "\\{ \n",
       "0.752001, 0.966084, 0.853759, 0.678343, 0.495284, 0.404372, 0.373393, 0.363308, 0.359880\\}\n",
       " \\]"
      ],
      "text/plain": [
       "<IPython.core.display.Latex object>"
      ]
     },
     "execution_count": 8,
     "metadata": {},
     "output_type": "execute_result"
    }
   ],
   "source": [
    "ratios=[]\n",
    "prevq=q\n",
    "for i in range(1,10):\n",
    "    [currentq,_,_] = ev.inversePowerShift(A,q,0,1e-6,i)\n",
    "    ratio = linear.norm(currentq-v,np.inf)/linear.norm(prevq-v,np.inf)\n",
    "    ratios.append(ratio)\n",
    "    prevq = currentq\n",
    "Latex(ls.latexList(ratios,'\\widetilde{r}', form='%f'))"
   ]
  },
  {
   "cell_type": "markdown",
   "metadata": {},
   "source": [
    "Donde $\\widetilde{r}$ es el arreglo cuyo elemento $ \\widetilde{r}_i $ es la razón de la i-ésima iteración  con $i\\in \\{1,2,...,10\\}$."
   ]
  },
  {
   "cell_type": "markdown",
   "metadata": {},
   "source": [
    "Se oberva que $\\widetilde{r}_{10}$ = $0.359880$ es aproximademente la razón teórica $r=0.35800909831776$ "
   ]
  },
  {
   "cell_type": "markdown",
   "metadata": {
    "collapsed": true
   },
   "source": [
    "# Ejercicio 2.2"
   ]
  },
  {
   "cell_type": "markdown",
   "metadata": {
    "collapsed": true
   },
   "source": [
    "Para la misma matriz $A$ y vector $q_0$ defininidos anteriormente, se realizarán las mismas pruebas para un $shift$ $\\rho_2=3.3$. Se encontrarán nuevos: vector $\\overrightarrow{q}_{10}$, la aproximación de eigenvector, y $\\sigma_{10}$ la aproximación del eigenvalor. "
   ]
  },
  {
   "cell_type": "code",
   "execution_count": 9,
   "metadata": {},
   "outputs": [
    {
     "name": "stdout",
     "output_type": "stream",
     "text": [
      "Numero de Iteraciones: 4\n"
     ]
    },
    {
     "data": {
      "text/latex": [
       "\\[ \n",
       " \\vec{q_{10}} = \n",
       "\\begin{pmatrix} \n",
       "0.515311 \\\\ \n",
       "-0.332385 \\\\ \n",
       "0.789921 \\\\ \n",
       "\\end{pmatrix}\n",
       " \\]$$\\sigma_{10} = 3.420782623785237$$"
      ],
      "text/plain": [
       "<IPython.core.display.Latex object>"
      ]
     },
     "execution_count": 9,
     "metadata": {},
     "output_type": "execute_result"
    }
   ],
   "source": [
    "[q10, l10 ,iterations]=ev.inversePowerShift(A,q,3.3,1e-6,10)\n",
    "print('Numero de Iteraciones: ' + str(iterations))\n",
    "Latex(ls.latexVector(q10,'q_{10}', form='%f') + '$$\\sigma_{10} = '+str(l10)+'$$')"
   ]
  },
  {
   "cell_type": "markdown",
   "metadata": {},
   "source": [
    "La primera observación es que el proceso sólo hizo 4 iteraciones, esto quiere decir que el método alcanzó el criterio de error relativo sin necesidad de hacer las 10 iteraciones. Comparemos los resultados anteriores con los valores \"exactos\" calculados por el paquete 'linalg' de 'scipy':"
   ]
  },
  {
   "cell_type": "code",
   "execution_count": 10,
   "metadata": {},
   "outputs": [
    {
     "data": {
      "text/latex": [
       "\\[ \n",
       " \\vec{\\lambda} = \n",
       "\\begin{pmatrix} \n",
       "8.354545 \\\\ \n",
       "1.224672 \\\\ \n",
       "3.420784 \\\\ \n",
       "\\end{pmatrix}\n",
       " \\]\\[ \n",
       "V = \n",
       "\\begin{pmatrix} \n",
       "0.083444 & -0.992728 & 0.515311 \\\\ \n",
       "0.979576 & -0.104882 & -0.332386 \\\\ \n",
       "-0.182943 & -0.059078 & 0.789921 \\\\ \n",
       "\\end{pmatrix}\n",
       " \\]"
      ],
      "text/plain": [
       "<IPython.core.display.Latex object>"
      ]
     },
     "execution_count": 10,
     "metadata": {},
     "output_type": "execute_result"
    }
   ],
   "source": [
    "[L,V] = linear.eig(A)\n",
    "Latex(ls.latexVector(L,'\\lambda',form='%f') + ls.latexMatrix(V,'V',form='%f'))\n",
    "\n"
   ]
  },
  {
   "cell_type": "markdown",
   "metadata": {},
   "source": [
    "El vector $\\overrightarrow{q}_{10}$ es aproximadamente al eigenvector \"exacto\" $\\overrightarrow{v_{3}}$, tercera columna de la matriz $V$. El valor $\\sigma_{10}$  tiene 5 cifras decimales iguales al eigenvalor \"exacto\" $\\lambda_3$, tercera entrada del vector $\\overrightarrow{\\lambda}$."
   ]
  },
  {
   "cell_type": "markdown",
   "metadata": {},
   "source": [
    "Observamos lo siguiente:$$|\\lambda_3-\\rho_2|<|\\lambda_2-\\rho_2|<|\\lambda_1-\\rho_2| \\Rightarrow |\\lambda_3-\\rho_2|^{-1}>|\\lambda_2-\\rho_2|^{-1}>|\\lambda_1-\\rho_2|^{-1}$$"
   ]
  },
  {
   "cell_type": "markdown",
   "metadata": {},
   "source": [
    "Con un razonamiento similar al ejercicio anterior, al tener la desigualdad anterior, el método de la potencia inversa con $shift$ $\\rho_2=3.3$ cumple una de las hipótesis y el converge al valor $(\\lambda_3-\\rho_2)^{-1}$ y el eigenvector asignado $\\overrightarrow{v}_3$. Luego con un simple despeje obtenemos $\\lambda_3$ y con ello el eigenpar $(\\lambda_3,\\overrightarrow{v}_3)$."
   ]
  },
  {
   "cell_type": "markdown",
   "metadata": {},
   "source": [
    "Nuevamente, el vector inicial $\\overrightarrow{q_{0}}$ no es ortogonal a los vectores de la matriz $V$, por lo tanto $\\overrightarrow{q_{0}}$ se puede escribir como combinanción lineal de los vectores de $V$, es decir que no todas las constantes asociadas a la combinación lineal son iguales cero. En particular se cumple la segunda hipótesis de que $c_3$ la constante de la combinación lineal asociada a $\\overrightarrow{v_3}$ es diferente de cero para que el método converja y obtengamos el eigenpar $(\\lambda_{3},\\overrightarrow{v}_3)$. "
   ]
  },
  {
   "cell_type": "markdown",
   "metadata": {},
   "source": [
    "Calculando las razones de convergencia en cada paso de la iteracion, dadas por:\n",
    "$$ \\widetilde{r}_i = \\frac{\\Vert q_{i}-v \\Vert_\\infty}{\\Vert q_{i-1}-v \\Vert_\\infty} \\qquad i\\in \\{1,2,...,10\\} $$\n",
    "Para luego poder comparar esto con la razon de convergencia teórica, dada por:\n",
    "$$ r = \\left| \\frac{\\lambda_3-\\rho_2}{\\lambda_2-\\rho_2} \\right| = 0.05819972269618957 $$\n",
    "donde: \n",
    "\n"
   ]
  },
  {
   "cell_type": "markdown",
   "metadata": {},
   "source": [
    "$$|\\lambda_3-\\rho_2|<|\\lambda_2-\\rho_2|<|\\lambda_1-\\rho_2| \\Rightarrow |\\lambda_3-\\rho_2|^{-1}>|\\lambda_2-\\rho_2|^{-1}>|\\lambda_1-\\rho_2|^{-1}$$"
   ]
  },
  {
   "cell_type": "code",
   "execution_count": 14,
   "metadata": {},
   "outputs": [
    {
     "data": {
      "text/latex": [
       "\\[ \n",
       " \\widetilde{r} = \n",
       "\\{ \n",
       "0.014461462126105749, 0.024879097928838544, 0.02083370992732698, 0.03243112350231607, 0.021112488917049588, 0.08558978918816003, 0.0505518923337148, 0.061827856118995266, 0.05662438550707046, 0.06216505894962487\\}\n",
       " \\]"
      ],
      "text/plain": [
       "<IPython.core.display.Latex object>"
      ]
     },
     "execution_count": 14,
     "metadata": {},
     "output_type": "execute_result"
    }
   ],
   "source": [
    "ratios=[]\n",
    "v=V[:,2]\n",
    "\n",
    "prevq=q\n",
    "for i in range(1,11):\n",
    "    [currentq,_,_] = ev.inversePowerShift(A,q,3.3,0,i)\n",
    "    ratio = linear.norm(currentq-v,np.inf)/linear.norm(prevq-v,np.inf)\n",
    "    ratios.append(ratio)\n",
    "    prevq = currentq\n",
    "Latex(ls.latexList(ratios,'\\widetilde{r}', form='%s'))"
   ]
  },
  {
   "cell_type": "markdown",
   "metadata": {},
   "source": [
    "Donde $\\widetilde{r}$ es el arreglo cuyo elemento $\\widetilde{r}_i$ es la razón de la i-ésima iteración con $i\\in \\{1,2,...,10\\}$."
   ]
  },
  {
   "cell_type": "markdown",
   "metadata": {},
   "source": [
    "Observamos que las razones  $\\widetilde{r}_i$ comienzan a oscilar alrededor de $r=0.05819972269618957$ (razón teórica)  desde $i=7$. Esto se debe a que como el método converge rápidamente desde la iteración 4 entonces con más iteraciones la aproximación se vuelve prácticamente igual al eigenpar busacado. Por lo tanto, la diferencia $q_{i}-v$ es aproximadamente cero lo cual puede causar errores de redondeo. También $q_{i}-v$ es casi igual a  $q_{i-1}-v$ por lo que la razón $r_i = \\frac{\\Vert q_{i}-v \\Vert_\\infty}{\\Vert q_{i-1}-v \\Vert_\\infty} $ es aproximadamente 1 pero los errores de redondeo en el cociente provocan la oscilación de las $\\widetilde{r}_i$."
   ]
  }
 ],
 "metadata": {
  "kernelspec": {
   "display_name": "Python 3",
   "language": "python",
   "name": "python3"
  },
  "language_info": {
   "codemirror_mode": {
    "name": "ipython",
    "version": 3
   },
   "file_extension": ".py",
   "mimetype": "text/x-python",
   "name": "python",
   "nbconvert_exporter": "python",
   "pygments_lexer": "ipython3",
   "version": "3.6.4"
  }
 },
 "nbformat": 4,
 "nbformat_minor": 2
}
