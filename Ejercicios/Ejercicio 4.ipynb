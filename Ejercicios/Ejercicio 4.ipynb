{
 "cells": [
  {
   "cell_type": "code",
   "execution_count": 1,
   "metadata": {},
   "outputs": [],
   "source": [
    "import sys\n",
    "sys.path.append('../')\n",
    "from IPython.display import Latex\n",
    "import latexStrings as ls\n",
    "import numpy as np\n",
    "import scipy.linalg as linear\n",
    "import eigenvalues as ev"
   ]
  },
  {
   "cell_type": "markdown",
   "metadata": {},
   "source": [
    "# Ejercicio 4"
   ]
  },
  {
   "cell_type": "markdown",
   "metadata": {},
   "source": [
    "Definimos la matriz $A$ como en el ejercicio 1:"
   ]
  },
  {
   "cell_type": "code",
   "execution_count": 2,
   "metadata": {
    "scrolled": false
   },
   "outputs": [
    {
     "data": {
      "text/latex": [
       "\\[ \n",
       "A = \n",
       "\\begin{pmatrix} \n",
       "1 & 1 & 2 \\\\ \n",
       "-1 & 9 & 3 \\\\ \n",
       "0 & -1 & 3 \\\\ \n",
       "\\end{pmatrix}\n",
       " \\]"
      ],
      "text/plain": [
       "<IPython.core.display.Latex object>"
      ]
     },
     "execution_count": 2,
     "metadata": {},
     "output_type": "execute_result"
    }
   ],
   "source": [
    "A = np.array([[1,1,2],[-1,9,3],[0,-1,3]])\n",
    "Latex(ls.latexMatrix(A,'A'))"
   ]
  },
  {
   "cell_type": "markdown",
   "metadata": {},
   "source": [
    "Los eigenvalores y eigenvectores exactos a los que queremos llegar con nuestro método son los siguientes:"
   ]
  },
  {
   "cell_type": "code",
   "execution_count": 3,
   "metadata": {
    "scrolled": true
   },
   "outputs": [
    {
     "data": {
      "text/latex": [
       "\\[ \n",
       " \\vec{\\lambda} = \n",
       "\\begin{pmatrix} \n",
       "8.35454483516155 \\\\ \n",
       "3.420783535686916 \\\\ \n",
       "1.2246716291515263 \\\\ \n",
       "\\end{pmatrix}\n",
       " \\]\\[ \n",
       "V = \n",
       "\\begin{pmatrix} \n",
       "0.083444 & 0.515311 & -0.992728 \\\\ \n",
       "0.979576 & -0.332386 & -0.104882 \\\\ \n",
       "-0.182943 & 0.789921 & -0.059078 \\\\ \n",
       "\\end{pmatrix}\n",
       " \\]"
      ],
      "text/plain": [
       "<IPython.core.display.Latex object>"
      ]
     },
     "execution_count": 3,
     "metadata": {},
     "output_type": "execute_result"
    }
   ],
   "source": [
    "[eigenvalues,eigenvectors]=linear.eig(A)\n",
    "[eigenvalues,eigenvectors]=ev.pairSort(eigenvalues,eigenvectors)\n",
    "\n",
    "Latex(ls.latexVector(eigenvalues,'\\lambda',form='%s') + ls.latexMatrix(eigenvectors,'V',form='%f'))"
   ]
  },
  {
   "cell_type": "markdown",
   "metadata": {},
   "source": [
    "El método aplicado a $A$ con vector inicial $q_0$ devuelve la aproximación de un eigenpar $(\\lambda_j,v_j)$ con $j \\in \\{1,2,3\\}$ en donde $\\lambda_j$ es el eigenvalor de la matriz $A$ más cercano al primer shift de Rayleigh, definido como:\n",
    "$$\\rho_j = \\frac{q_j^HAq_j}{||q_j||^2}$$\n",
    "\n",
    "Pues, en escencia, el metodo de la potencia inversa con shift de Rayleigh es una mejora al metodo con shift estatico, tomando como primer shift el shit de Rayleigh y mejorandolo en cada iteracion. Esto lleva a que la convergencia se da hacia:\n",
    "\n",
    "$$ \\{\\lambda_j,\\vec{v}_j\\}, \\quad |\\frac{1}{\\lambda_j-\\rho_0}|>|\\frac{1}{\\lambda_i-\\rho_0}| \\quad\\forall i\\neq j \\quad i,j \\in \\{1,2,3\\}$$."
   ]
  },
  {
   "cell_type": "markdown",
   "metadata": {},
   "source": [
    "Dado que la convergencia del metodo ahora depende del vector inicial, tratemos de buscar vectores distintos que nos lleven a todos los eigenvalores. Tomemos la base canónica como nuestros primeros 3 vectores iniciales:"
   ]
  },
  {
   "cell_type": "code",
   "execution_count": 4,
   "metadata": {
    "scrolled": false
   },
   "outputs": [
    {
     "data": {
      "text/latex": [
       "\\[ \n",
       " \\vec{q_0^1} = \n",
       "\\begin{pmatrix} \n",
       "0 \\\\ \n",
       "1 \\\\ \n",
       "0 \\\\ \n",
       "\\end{pmatrix}\n",
       " \\]\\[ \n",
       " \\vec{q_0^2} = \n",
       "\\begin{pmatrix} \n",
       "0 \\\\ \n",
       "0 \\\\ \n",
       "1 \\\\ \n",
       "\\end{pmatrix}\n",
       " \\]\\[ \n",
       " \\vec{q_0^3} = \n",
       "\\begin{pmatrix} \n",
       "1 \\\\ \n",
       "0 \\\\ \n",
       "0 \\\\ \n",
       "\\end{pmatrix}\n",
       " \\]"
      ],
      "text/plain": [
       "<IPython.core.display.Latex object>"
      ]
     },
     "execution_count": 4,
     "metadata": {},
     "output_type": "execute_result"
    }
   ],
   "source": [
    "q1 = np.array([0,1,0])\n",
    "q2 = np.array([0,0,1])\n",
    "q3 = np.array([1,0,0])\n",
    "Latex(ls.latexVector(q1,'q_0^1') + ls.latexVector(q2,'q_0^2')+ls.latexVector(q3,'q_0^3'))"
   ]
  },
  {
   "cell_type": "markdown",
   "metadata": {},
   "source": [
    "Aplicamos el método de la potencia inversa con shift de Rayleigh a la matriz A tomando a cada uno de los 3 vectores previamente definidos como vector inicial, obteniendo:"
   ]
  },
  {
   "cell_type": "code",
   "execution_count": 5,
   "metadata": {
    "scrolled": true
   },
   "outputs": [
    {
     "data": {
      "text/latex": [
       "\\[ \n",
       " \\vec{w_1} = \n",
       "\\begin{pmatrix} \n",
       "0.083444 \\\\ \n",
       "0.979576 \\\\ \n",
       "-0.182943 \\\\ \n",
       "\\end{pmatrix}\n",
       " \\]$\\sigma_1$ = 8.354544835161578"
      ],
      "text/plain": [
       "<IPython.core.display.Latex object>"
      ]
     },
     "execution_count": 5,
     "metadata": {},
     "output_type": "execute_result"
    }
   ],
   "source": [
    "[w1,l1,i1] = ev.inversePowerRayleigh(A,q1)\n",
    "Latex(ls.latexVector(w1,'w_1',form=\"%f\") + '$\\sigma_1$ = '+str(l1))"
   ]
  },
  {
   "cell_type": "code",
   "execution_count": 6,
   "metadata": {},
   "outputs": [
    {
     "data": {
      "text/latex": [
       "\\[ \n",
       " \\vec{w_2} = \n",
       "\\begin{pmatrix} \n",
       "0.515311 \\\\ \n",
       "-0.332386 \\\\ \n",
       "0.789921 \\\\ \n",
       "\\end{pmatrix}\n",
       " \\]$\\sigma_2$ = 3.4207835406851625"
      ],
      "text/plain": [
       "<IPython.core.display.Latex object>"
      ]
     },
     "execution_count": 6,
     "metadata": {},
     "output_type": "execute_result"
    }
   ],
   "source": [
    "[w2,l2,i2] = ev.inversePowerRayleigh(A,q2)\n",
    "Latex(ls.latexVector(w2,'w_2',form=\"%f\") + '$\\sigma_2$ = '+str(l2))"
   ]
  },
  {
   "cell_type": "code",
   "execution_count": 7,
   "metadata": {},
   "outputs": [
    {
     "data": {
      "text/latex": [
       "\\[ \n",
       " \\vec{w_3} = \n",
       "\\begin{pmatrix} \n",
       "0.992728 \\\\ \n",
       "0.104882 \\\\ \n",
       "0.059078 \\\\ \n",
       "\\end{pmatrix}\n",
       " \\]$\\sigma_3$ = 1.2246716248594658"
      ],
      "text/plain": [
       "<IPython.core.display.Latex object>"
      ]
     },
     "execution_count": 7,
     "metadata": {},
     "output_type": "execute_result"
    }
   ],
   "source": [
    "[w3,l3,i3] = ev.inversePowerRayleigh(A,q3)\n",
    "Latex(ls.latexVector(w3,'w_3', form=\"%f\") + '$\\sigma_3$ = '+str(l3))"
   ]
  },
  {
   "cell_type": "markdown",
   "metadata": {},
   "source": [
    "En efecto, vemos que los vectores tomados convergen a todos los distintos eigenvalores de $A$. A que se debe esto?"
   ]
  },
  {
   "cell_type": "markdown",
   "metadata": {},
   "source": [
    "En nuestro ejemplo podemos ver que al tomar la base canónica como nuestros vectores iniciales estamos tomando a los elementos de la diagonal como nuestros shifts de Rayleigh iniciales pues $\\overrightarrow{e_j}^tA\\overrightarrow{e_j}= a_{jj}$. Observemos mas detalladamente esto:"
   ]
  },
  {
   "cell_type": "markdown",
   "metadata": {},
   "source": [
    "Tomando $q_0^1 = (0,1,0)$ como vector inicial, nuestro primer shift es $\\rho_0^1=a_{22}=9$, y se cumple que:\n",
    "$$|\\frac{1}{8.354544...-9}|>|\\frac{1}{1.224671...-9}|>|\\frac{1}{3.420783...-9}|\\quad \\Rightarrow \n",
    "|\\frac{1}{\\lambda_1-9}|>|\\frac{1}{\\lambda_3-9}|>|\\frac{1}{\\lambda_2-9}|\\quad \\Rightarrow \\quad|\\frac{1}{\\lambda_1-\\rho_1}|>|\\frac{1}{\\lambda_i-\\rho_1}|\\quad\\forall i\\neq 1$$ por lo que nuestro método de la potencia inversa con shift de Raleigh tomando tomando $q_0^1$ como vector inicial converge a:"
   ]
  },
  {
   "cell_type": "code",
   "execution_count": 8,
   "metadata": {
    "scrolled": true
   },
   "outputs": [
    {
     "data": {
      "text/latex": [
       "\\[ \n",
       " \\vec{w_1} = \n",
       "\\begin{pmatrix} \n",
       "0.083444 \\\\ \n",
       "0.979576 \\\\ \n",
       "-0.182943 \\\\ \n",
       "\\end{pmatrix}\n",
       " \\]$\\sigma_1$ = 8.354544835161578"
      ],
      "text/plain": [
       "<IPython.core.display.Latex object>"
      ]
     },
     "execution_count": 8,
     "metadata": {},
     "output_type": "execute_result"
    }
   ],
   "source": [
    "Latex(ls.latexVector(w1,'w_1',form=\"%f\") + '$\\sigma_1$ = '+str(l1))"
   ]
  },
  {
   "cell_type": "markdown",
   "metadata": {},
   "source": [
    "Tomando $q_0^2 = (0,0,1)$ como vector inicial, nuestro shift inicial es $\\rho_0^2=a_{33}=3$, y se cumple que \n",
    "$$|\\frac{1}{3.420783...-3}|>|\\frac{1}{1.224671...-3}|>|\\frac{1}{8.354544......-3}|\\quad \\Rightarrow |\\frac{1}{\\lambda_2-3}|>|\\frac{1}{\\lambda_3-3}|>|\\frac{1}{\\lambda_1-3}|\\quad \\Rightarrow \\quad|\\frac{1}{\\lambda_2-\\rho_2}|>|\\frac{1}{\\lambda_i-\\rho_2}|\\quad\\forall i\\neq 2$$ por lo que nuestro método de la potencia inversa con shift de Raleigh tomando tomando $q_0^2$ como vector inicial converge a:"
   ]
  },
  {
   "cell_type": "code",
   "execution_count": 9,
   "metadata": {},
   "outputs": [
    {
     "data": {
      "text/latex": [
       "\\[ \n",
       " \\vec{w_2} = \n",
       "\\begin{pmatrix} \n",
       "0.515311 \\\\ \n",
       "-0.332386 \\\\ \n",
       "0.789921 \\\\ \n",
       "\\end{pmatrix}\n",
       " \\]$\\sigma_2$ = 3.4207835406851625"
      ],
      "text/plain": [
       "<IPython.core.display.Latex object>"
      ]
     },
     "execution_count": 9,
     "metadata": {},
     "output_type": "execute_result"
    }
   ],
   "source": [
    "Latex(ls.latexVector(w2,'w_2',form=\"%f\") + '$\\sigma_2$ = '+str(l2))"
   ]
  },
  {
   "cell_type": "markdown",
   "metadata": {},
   "source": [
    "Tomando $q_0^3=(1,0,0)$ como vector inicial, nuestro shift inicial es $\\rho_0^3=a_{11}=1$, y se cumple que:\n",
    "$$|\\frac{1}{1.224671...-1}|>|\\frac{1}{3.420783...-1}|>|\\frac{1}{8.354544......-1}|\\quad \\Rightarrow |\\frac{1}{\\lambda_3-1}|>|\\frac{1}{\\lambda_2-1}|>|\\frac{1}{\\lambda_1-1}|\\quad \\Rightarrow \\quad|\\frac{1}{\\lambda_3-\\rho_3}|>|\\frac{1}{\\lambda_i-\\rho_3}|\\quad\\forall i\\neq 3$$ \n",
    "por lo que nuestro método de la potencia inversa con shift de Raleigh tomando tomando $q_0^3$ converge a:"
   ]
  },
  {
   "cell_type": "code",
   "execution_count": 10,
   "metadata": {},
   "outputs": [
    {
     "data": {
      "text/latex": [
       "\\[ \n",
       " \\vec{w_3} = \n",
       "\\begin{pmatrix} \n",
       "0.992728 \\\\ \n",
       "0.104882 \\\\ \n",
       "0.059078 \\\\ \n",
       "\\end{pmatrix}\n",
       " \\]$\\sigma_3$ = 1.2246716248594658"
      ],
      "text/plain": [
       "<IPython.core.display.Latex object>"
      ]
     },
     "execution_count": 10,
     "metadata": {},
     "output_type": "execute_result"
    }
   ],
   "source": [
    "Latex(ls.latexVector(w3,'w_3', form=\"%f\") + '$\\sigma_3$ = '+str(l3))"
   ]
  },
  {
   "cell_type": "markdown",
   "metadata": {},
   "source": [
    "Ahora observemos que la convergencia del método de la potencia inversa con shift de Rayleigh es cuadratica. Primero veamos la aproximación de $\\lambda_j$ en cada iteración del método para cada $\\overrightarrow {q_0^i}$, y luego restando el eigenvalor correspondiente para ver la diferencia:"
   ]
  },
  {
   "cell_type": "code",
   "execution_count": 11,
   "metadata": {
    "scrolled": true
   },
   "outputs": [
    {
     "data": {
      "text/latex": [
       "\\[ \n",
       " \\widetilde{\\sigma}_1 = \n",
       "\\{ \n",
       "8.436241610738254, 8.355776480878252, 8.35454512345497, 8.354544835161578, 8.354544835161558, 8.354544835161558\\}\n",
       " \\]"
      ],
      "text/plain": [
       "<IPython.core.display.Latex object>"
      ]
     },
     "execution_count": 11,
     "metadata": {},
     "output_type": "execute_result"
    }
   ],
   "source": [
    "aprox=[]\n",
    "for i in range(1,7):\n",
    "    [_,sigmai,_] = ev.inversePowerRayleigh(A,q1,1e-14,i)\n",
    "    aprox.append(sigmai)\n",
    "Latex(ls.latexList(aprox,'\\widetilde{\\sigma}_1', form='%s'))"
   ]
  },
  {
   "cell_type": "code",
   "execution_count": 12,
   "metadata": {
    "scrolled": false
   },
   "outputs": [
    {
     "data": {
      "text/latex": [
       "\\[ \n",
       " |\\widetilde{\\sigma}_1-\\lambda_1| = \n",
       "\\{ \n",
       "0.08169677557670418, 0.00123164571670209, 2.882934211356769e-07, 2.842170943040401e-14, 8.881784197001252e-15, 8.881784197001252e-15\\}\n",
       " \\]"
      ],
      "text/plain": [
       "<IPython.core.display.Latex object>"
      ]
     },
     "execution_count": 12,
     "metadata": {},
     "output_type": "execute_result"
    }
   ],
   "source": [
    "Latex(ls.latexList(abs(aprox-eigenvalues[0]),'|\\widetilde{\\sigma}_1-\\lambda_1|', form='%s'))"
   ]
  },
  {
   "cell_type": "code",
   "execution_count": 13,
   "metadata": {},
   "outputs": [
    {
     "data": {
      "text/latex": [
       "\\[ \n",
       " \\widetilde{\\sigma}_2 = \n",
       "\\{ \n",
       "3.2018348623853212, 3.434406721090111, 3.420894064163872, 3.4207835406851625, 3.420783535686915, 3.420783535686915\\}\n",
       " \\]"
      ],
      "text/plain": [
       "<IPython.core.display.Latex object>"
      ]
     },
     "execution_count": 13,
     "metadata": {},
     "output_type": "execute_result"
    }
   ],
   "source": [
    "aprox=[]\n",
    "for i in range(1,7):\n",
    "    [_,sigmai,_] = ev.inversePowerRayleigh(A,q2,1e-15,i)\n",
    "    aprox.append(sigmai)\n",
    "Latex(ls.latexList(aprox,'\\widetilde{\\sigma}_2', form='%s'))"
   ]
  },
  {
   "cell_type": "code",
   "execution_count": 14,
   "metadata": {},
   "outputs": [
    {
     "data": {
      "text/latex": [
       "\\[ \n",
       " |\\widetilde{\\sigma}_2-\\lambda_2| = \n",
       "\\{ \n",
       "0.21894867330159462, 0.01362318540319496, 0.0001105284769562509, 4.998246705412157e-09, 8.881784197001252e-16, 8.881784197001252e-16\\}\n",
       " \\]"
      ],
      "text/plain": [
       "<IPython.core.display.Latex object>"
      ]
     },
     "execution_count": 14,
     "metadata": {},
     "output_type": "execute_result"
    }
   ],
   "source": [
    "Latex(ls.latexList(abs(aprox-eigenvalues[1]),'|\\widetilde{\\sigma}_2-\\lambda_2|', form='%s'))"
   ]
  },
  {
   "cell_type": "code",
   "execution_count": 15,
   "metadata": {},
   "outputs": [
    {
     "data": {
      "text/latex": [
       "\\[ \n",
       " \\widetilde{\\sigma}_3 = \n",
       "\\{ \n",
       "1.2076502732240437, 1.2245699277493174, 1.2246716248594658, 1.2246716291515263, 1.2246716291515263, 1.2246716291515263\\}\n",
       " \\]"
      ],
      "text/plain": [
       "<IPython.core.display.Latex object>"
      ]
     },
     "execution_count": 15,
     "metadata": {},
     "output_type": "execute_result"
    }
   ],
   "source": [
    "aprox=[]\n",
    "for i in range(1,7):\n",
    "    [_,sigmai,_] = ev.inversePowerRayleigh(A,q3,1e-14,i)\n",
    "    aprox.append(sigmai)\n",
    "Latex(ls.latexList(aprox,'\\widetilde{\\sigma}_3', form='%s'))"
   ]
  },
  {
   "cell_type": "code",
   "execution_count": 16,
   "metadata": {},
   "outputs": [
    {
     "data": {
      "text/latex": [
       "\\[ \n",
       " |\\widetilde{\\sigma}_3-\\lambda_3| = \n",
       "\\{ \n",
       "0.01702135592748255, 0.0001017014022088869, 4.292060484800686e-09, 0.0, 0.0, 0.0\\}\n",
       " \\]"
      ],
      "text/plain": [
       "<IPython.core.display.Latex object>"
      ]
     },
     "execution_count": 16,
     "metadata": {},
     "output_type": "execute_result"
    }
   ],
   "source": [
    "Latex(ls.latexList(abs(aprox-eigenvalues[2]),'|\\widetilde{\\sigma}_3-\\lambda_3|', form='%s'))"
   ]
  },
  {
   "cell_type": "markdown",
   "metadata": {},
   "source": [
    "Podemos ver que en los 3 casos el número de cifras correctas de la aproximación de $\\sigma_j$ con $j\\in\\{1,2,3\\}$ se duplica con cada iteración hasta llegar al valor exacto o a un punto en donde la matriz es casi singular y el método ya no es aplicable computacionalmente por lo tanto comprobamos que el método converge cuadráticamente."
   ]
  }
 ],
 "metadata": {
  "kernelspec": {
   "display_name": "Python 3",
   "language": "python",
   "name": "python3"
  },
  "language_info": {
   "codemirror_mode": {
    "name": "ipython",
    "version": 3
   },
   "file_extension": ".py",
   "mimetype": "text/x-python",
   "name": "python",
   "nbconvert_exporter": "python",
   "pygments_lexer": "ipython3",
   "version": "3.6.4"
  }
 },
 "nbformat": 4,
 "nbformat_minor": 2
}
