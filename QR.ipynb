{
 "cells": [
  {
   "cell_type": "code",
   "execution_count": 1,
   "metadata": {
    "collapsed": true
   },
   "outputs": [],
   "source": [
    "import numpy as np\n",
    "import scipy.linalg as linear"
   ]
  },
  {
   "cell_type": "code",
   "execution_count": 2,
   "metadata": {
    "collapsed": true,
    "scrolled": true
   },
   "outputs": [],
   "source": [
    "A=np.matrix('1 2 3;4 5 6;7 8 9') #preguntar pq no sirve con '2 1;1 2', tiene q ver con dim(eigenespacio(2))=2? o por A-2I ortogonal?"
   ]
  },
  {
   "cell_type": "code",
   "execution_count": 3,
   "metadata": {
    "collapsed": true
   },
   "outputs": [],
   "source": [
    "def simpleQR(A, eps):\n",
    "    while linear.norm(A.diagonal(-1))>eps:\n",
    "        [Q,R]=linear.qr(A)\n",
    "        A=R.dot(Q)\n",
    "    return A"
   ]
  },
  {
   "cell_type": "code",
   "execution_count": 4,
   "metadata": {
    "scrolled": true
   },
   "outputs": [
    {
     "data": {
      "text/plain": [
       "array([[  1.61168440e+001,  -4.89897949e+000,  -5.06073432e-015],\n",
       "       [  8.04476733e-011,  -1.11684397e+000,   1.20365131e-016],\n",
       "       [  1.11271449e-164,  -2.13754610e-154,  -4.53828149e-016]])"
      ]
     },
     "execution_count": 4,
     "metadata": {},
     "output_type": "execute_result"
    }
   ],
   "source": [
    "simpleQR(A,10**-10)"
   ]
  },
  {
   "cell_type": "code",
   "execution_count": 5,
   "metadata": {
    "scrolled": false
   },
   "outputs": [
    {
     "data": {
      "text/plain": [
       "matrix([[1, 2, 3],\n",
       "        [4, 5, 6],\n",
       "        [7, 8, 9]])"
      ]
     },
     "execution_count": 5,
     "metadata": {},
     "output_type": "execute_result"
    }
   ],
   "source": [
    "A"
   ]
  },
  {
   "cell_type": "code",
   "execution_count": 6,
   "metadata": {
    "collapsed": true
   },
   "outputs": [],
   "source": [
    "def shiftQRStep(A,eps):\n",
    "    while A[-1,-2]>eps:\n",
    "        shift=A[-1,-1]\n",
    "        [Q,R]=linear.qr(A-shift*np.identity(len(A)))\n",
    "        A=R.dot(Q)+shift*np.identity(len(A))\n",
    "    return A"
   ]
  },
  {
   "cell_type": "code",
   "execution_count": 7,
   "metadata": {
    "scrolled": true
   },
   "outputs": [
    {
     "data": {
      "text/plain": [
       "array([[ -1.02922023e+00,  -3.00306721e-01,   4.70287598e+00],\n",
       "       [ -3.00306720e-01,  -8.76237405e-02,   1.37220899e+00],\n",
       "       [ -1.69309581e-09,  -2.91025082e-09,   1.61168440e+01]])"
      ]
     },
     "execution_count": 7,
     "metadata": {},
     "output_type": "execute_result"
    }
   ],
   "source": [
    "shiftQRStep(A,10**-10)"
   ]
  },
  {
   "cell_type": "code",
   "execution_count": 17,
   "metadata": {
    "collapsed": true
   },
   "outputs": [],
   "source": [
    "def shiftQR(A,eps):\n",
    "    A=linear.hessenberg(A)\n",
    "    eigenvalues=[]\n",
    "    while(len(A)>1):\n",
    "        A=shiftQRStep(A,eps)\n",
    "        eigenvalues.append(A[-1,-1])\n",
    "        A=A[:-1,:-1]\n",
    "    eigenvalues.append(A[0,0])\n",
    "    return eigenvalues"
   ]
  },
  {
   "cell_type": "code",
   "execution_count": 18,
   "metadata": {},
   "outputs": [
    {
     "data": {
      "text/plain": [
       "[-1.1491041660185517e-15, -1.1168439698070547, 16.116843969807057]"
      ]
     },
     "execution_count": 18,
     "metadata": {},
     "output_type": "execute_result"
    }
   ],
   "source": [
    "shiftQR(A,10**-10)"
   ]
  }
 ],
 "metadata": {
  "kernelspec": {
   "display_name": "Python 3",
   "language": "python",
   "name": "python3"
  },
  "language_info": {
   "codemirror_mode": {
    "name": "ipython",
    "version": 3
   },
   "file_extension": ".py",
   "mimetype": "text/x-python",
   "name": "python",
   "nbconvert_exporter": "python",
   "pygments_lexer": "ipython3",
   "version": "3.6.3"
  }
 },
 "nbformat": 4,
 "nbformat_minor": 2
}
