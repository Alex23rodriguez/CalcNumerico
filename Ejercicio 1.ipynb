{
 "cells": [
  {
   "cell_type": "code",
   "execution_count": 1,
   "metadata": {},
   "outputs": [],
   "source": [
    "from IPython.display import Latex\n",
    "import latexStrings as ls\n",
    "import numpy as np\n",
    "import scipy.linalg as linear\n",
    "import eigenvalues as ev"
   ]
  },
  {
   "cell_type": "markdown",
   "metadata": {},
   "source": [
    "# Ejercicio 1"
   ]
  },
  {
   "cell_type": "markdown",
   "metadata": {},
   "source": [
    "Tenemos la matriz $A$ y el vector $q_0$ definidos como:"
   ]
  },
  {
   "cell_type": "code",
   "execution_count": 2,
   "metadata": {},
   "outputs": [
    {
     "data": {
      "text/latex": [
       "\\[ \n",
       "A = \n",
       "\\begin{pmatrix} \n",
       "1 & 1 & 2 \\\\ \n",
       "-1 & 9 & 3 \\\\ \n",
       "0 & -1 & 3 \\\\ \n",
       "\\end{pmatrix}\n",
       " \\]\\[ \n",
       " \\vec{q_0} = \n",
       "\\begin{pmatrix} \n",
       "1 \\\\ \n",
       "1 \\\\ \n",
       "1 \\\\ \n",
       "\\end{pmatrix}\n",
       " \\]"
      ],
      "text/plain": [
       "<IPython.core.display.Latex object>"
      ]
     },
     "execution_count": 2,
     "metadata": {},
     "output_type": "execute_result"
    }
   ],
   "source": [
    "A = np.array([[1,1,2],[-1,9,3],[0,-1,3]])\n",
    "q = np.array([1,1,1])\n",
    "\n",
    "Latex(ls.latexMatrix(A,'A') + ls.latexVector(q,'q_0'))"
   ]
  },
  {
   "cell_type": "markdown",
   "metadata": {},
   "source": [
    "Queremos calcular 10 iteraciones del metodo de la potencia. Esto nos da como resultado:"
   ]
  },
  {
   "cell_type": "code",
   "execution_count": 3,
   "metadata": {
    "scrolled": false
   },
   "outputs": [
    {
     "name": "stdout",
     "output_type": "stream",
     "text": [
      "Numero de Iteraciones: 10\n"
     ]
    },
    {
     "data": {
      "text/latex": [
       "\\[ \n",
       " \\vec{q_{10}} = \n",
       "\\begin{pmatrix} \n",
       "0.083519 \\\\ \n",
       "0.979588 \\\\ \n",
       "-0.182845 \\\\ \n",
       "\\end{pmatrix}\n",
       " \\]$\\lambda = $8.35525106702442"
      ],
      "text/plain": [
       "<IPython.core.display.Latex object>"
      ]
     },
     "execution_count": 3,
     "metadata": {},
     "output_type": "execute_result"
    }
   ],
   "source": [
    "[q10, l10 ,iterations]=ev.powerMethod(A,q,1e-6,10)\n",
    "print('Numero de Iteraciones: ' + str(iterations))\n",
    "Latex(ls.latexVector(q10,'q_{10}', form='%f') + '$\\lambda = $'+str(l10))"
   ]
  },
  {
   "cell_type": "markdown",
   "metadata": {},
   "source": [
    "Ahora comparemos los resultados con los valores 'exactos' calculados por el paquete 'linalg' de 'scipy':"
   ]
  },
  {
   "cell_type": "code",
   "execution_count": 4,
   "metadata": {
    "scrolled": true
   },
   "outputs": [
    {
     "data": {
      "text/latex": [
       "\\[ \n",
       " \\vec{\\lambda} = \n",
       "\\begin{pmatrix} \n",
       "8.354545 \\\\ \n",
       "1.224672 \\\\ \n",
       "3.420784 \\\\ \n",
       "\\end{pmatrix}\n",
       " \\]\\[ \n",
       "V = \n",
       "\\begin{pmatrix} \n",
       "0.083444 & -0.992728 & 0.515311 \\\\ \n",
       "0.979576 & -0.104882 & -0.332386 \\\\ \n",
       "-0.182943 & -0.059078 & 0.789921 \\\\ \n",
       "\\end{pmatrix}\n",
       " \\]"
      ],
      "text/plain": [
       "<IPython.core.display.Latex object>"
      ]
     },
     "execution_count": 4,
     "metadata": {},
     "output_type": "execute_result"
    }
   ],
   "source": [
    "[L,V] = linear.eig(A)\n",
    "Latex(ls.latexVector(L,'\\lambda',form='%f') + ls.latexMatrix(V,'V',form='%f'))"
   ]
  }
 ],
 "metadata": {
  "kernelspec": {
   "display_name": "Python 3",
   "language": "python",
   "name": "python3"
  },
  "language_info": {
   "codemirror_mode": {
    "name": "ipython",
    "version": 3
   },
   "file_extension": ".py",
   "mimetype": "text/x-python",
   "name": "python",
   "nbconvert_exporter": "python",
   "pygments_lexer": "ipython3",
   "version": "3.6.4"
  }
 },
 "nbformat": 4,
 "nbformat_minor": 2
}
