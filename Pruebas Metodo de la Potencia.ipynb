{
 "cells": [
  {
   "cell_type": "code",
   "execution_count": 1,
   "metadata": {
    "scrolled": true
   },
   "outputs": [],
   "source": [
    "import numpy as np\n",
    "import scipy.linalg as linear\n",
    "\n",
    "#Power Methods\n",
    "def powerMethod(A, q, tol, maxIter=1e3):\n",
    "    w = q/linear.norm(q)\n",
    "    i = 0\n",
    "    flag = 0\n",
    "    while(i < maxIter and not flag):\n",
    "        i += 1\n",
    "        q = A.dot(w)\n",
    "        l = w.dot(q)\n",
    "        w = q/linear.norm(q)\n",
    "        flag = linear.norm(A.dot(w)-l*w) <= tol*linear.norm(A.dot(w))\n",
    "    return w,l,i\n",
    "\n",
    "def inversePower(A, q, tol, maxIter=1e3):\n",
    "    w = q/linear.norm(q)\n",
    "    i = 0\n",
    "    flag = 0\n",
    "    while(i < maxIter and not flag):\n",
    "        i += 1\n",
    "        q = linear.solve(A,w)\n",
    "        l = w.dot(q)\n",
    "        w = q/linear.norm(q)\n",
    "        flag = linear.norm(A.dot(w)-(1/l)*w) <= tol*linear.norm(A.dot(w))\n",
    "    return w,1/l,i\n",
    "        \n",
    "def inversePowerShift(A, q, r, tol, maxIter=1e3):\n",
    "    w = q/linear.norm(q)\n",
    "    i = 0\n",
    "    flag = 0\n",
    "    while(i < maxIter and not flag):\n",
    "        i += 1\n",
    "        q = linear.solve(A-r*np.identity(len(A)),w)\n",
    "        l = w.dot(q)\n",
    "        w = q/linear.norm(q)\n",
    "        flag = linear.norm(A.dot(w)-(1/l+r)*w) <= tol*linear.norm(A.dot(w))\n",
    "    return w,(1/l+r),i\n",
    "\n",
    "def inversePowerRayleigh(A, q, tol, maxIter=1e3): \n",
    "    w = q/linear.norm(q)\n",
    "    l = w.dot(A.dot(w))\n",
    "    i = 0\n",
    "    flag = 0\n",
    "    while(i < maxIter and not flag):\n",
    "        i += 1\n",
    "        #Agregar try-catch para matrix singular, terminar ejecucion\n",
    "        q = linear.solve(A-l*np.identity(len(A)),w)\n",
    "        w = q/linear.norm(q)\n",
    "        l = w.dot(A.dot(w))\n",
    "        flag = linear.norm(A.dot(w)-l*w) <= tol\n",
    "    return w,l,i"
   ]
  },
  {
   "cell_type": "code",
   "execution_count": 2,
   "metadata": {
    "scrolled": true
   },
   "outputs": [
    {
     "name": "stdout",
     "output_type": "stream",
     "text": [
      " A \t \t q\n",
      "[[0 1 2]\n",
      " [1 0 1]\n",
      " [2 1 0]] \t [ 1  1 -1]\n"
     ]
    }
   ],
   "source": [
    "A=np.array([[0,1,2],[1,0,1],[2,1,0]])\n",
    "q=np.array([1,1,-1])\n",
    "print(\" A \\t \\t q\")\n",
    "print(A , '\\t', q)"
   ]
  },
  {
   "cell_type": "code",
   "execution_count": 3,
   "metadata": {
    "scrolled": true
   },
   "outputs": [
    {
     "data": {
      "text/plain": [
       "(array([ 2.73205081+0.j, -2.00000000+0.j, -0.73205081+0.j]),\n",
       " array([[ -6.27963030e-01,  -7.07106781e-01,   3.25057584e-01],\n",
       "        [ -4.59700843e-01,   1.64352863e-16,  -8.88073834e-01],\n",
       "        [ -6.27963030e-01,   7.07106781e-01,   3.25057584e-01]]))"
      ]
     },
     "execution_count": 3,
     "metadata": {},
     "output_type": "execute_result"
    }
   ],
   "source": [
    "linear.eig(A)"
   ]
  },
  {
   "cell_type": "code",
   "execution_count": 4,
   "metadata": {
    "scrolled": true
   },
   "outputs": [
    {
     "data": {
      "text/plain": [
       "(array([ 0.62796303,  0.45970084,  0.62796303]), 2.7320508075688776, 87)"
      ]
     },
     "execution_count": 4,
     "metadata": {},
     "output_type": "execute_result"
    }
   ],
   "source": [
    "powerMethod(A,q,1e-11)"
   ]
  },
  {
   "cell_type": "code",
   "execution_count": 5,
   "metadata": {
    "scrolled": true
   },
   "outputs": [
    {
     "data": {
      "text/plain": [
       "(array([ 0.32505758, -0.88807383,  0.32505758]), -0.7320508075688773, 27)"
      ]
     },
     "execution_count": 5,
     "metadata": {},
     "output_type": "execute_result"
    }
   ],
   "source": [
    "inversePower(A,q,1e-11)"
   ]
  },
  {
   "cell_type": "code",
   "execution_count": 6,
   "metadata": {},
   "outputs": [
    {
     "data": {
      "text/plain": [
       "(array([ 0.62796303,  0.45970084,  0.62796303]), 2.7320508075688772, 20)"
      ]
     },
     "execution_count": 6,
     "metadata": {},
     "output_type": "execute_result"
    }
   ],
   "source": [
    "inversePowerShift(A,q,2,1e-11)"
   ]
  },
  {
   "cell_type": "code",
   "execution_count": 7,
   "metadata": {},
   "outputs": [
    {
     "data": {
      "text/plain": [
       "(array([ -7.07106781e-01,   6.81670459e-12,   7.07106781e-01]), -2.0, 15)"
      ]
     },
     "execution_count": 7,
     "metadata": {},
     "output_type": "execute_result"
    }
   ],
   "source": [
    "inversePowerShift(A,q,-1.8,1e-11)"
   ]
  },
  {
   "cell_type": "code",
   "execution_count": 8,
   "metadata": {},
   "outputs": [
    {
     "data": {
      "text/plain": [
       "(array([-0.32505758,  0.88807383, -0.32505758]), -0.73205080756887719, 12)"
      ]
     },
     "execution_count": 8,
     "metadata": {},
     "output_type": "execute_result"
    }
   ],
   "source": [
    "inversePowerShift(A,q,-0.6,1e-11)"
   ]
  },
  {
   "cell_type": "code",
   "execution_count": 9,
   "metadata": {
    "scrolled": true
   },
   "outputs": [
    {
     "data": {
      "text/plain": [
       "(array([ -7.07106781e-01,   3.64072561e-13,   7.07106781e-01]), -2.0, 5)"
      ]
     },
     "execution_count": 9,
     "metadata": {},
     "output_type": "execute_result"
    }
   ],
   "source": [
    "inversePowerRayleigh(A,q,1e-7)"
   ]
  },
  {
   "cell_type": "code",
   "execution_count": 10,
   "metadata": {},
   "outputs": [
    {
     "data": {
      "text/plain": [
       "(array([ 0.62796303,  0.45970084,  0.62796303]), 2.7320508075688776, 2)"
      ]
     },
     "execution_count": 10,
     "metadata": {},
     "output_type": "execute_result"
    }
   ],
   "source": [
    "inversePowerRayleigh(A,np.array([1,.7,1]),1e-7)"
   ]
  },
  {
   "cell_type": "code",
   "execution_count": 11,
   "metadata": {},
   "outputs": [
    {
     "data": {
      "text/plain": [
       "(array([ 0.32505758, -0.88807383,  0.32505758]), -0.73205080756887719, 2)"
      ]
     },
     "execution_count": 11,
     "metadata": {},
     "output_type": "execute_result"
    }
   ],
   "source": [
    "inversePowerRayleigh(A,np.array([3,-7,3]),1e-7)"
   ]
  }
 ],
 "metadata": {
  "kernelspec": {
   "display_name": "Python 3",
   "language": "python",
   "name": "python3"
  },
  "language_info": {
   "codemirror_mode": {
    "name": "ipython",
    "version": 3
   },
   "file_extension": ".py",
   "mimetype": "text/x-python",
   "name": "python",
   "nbconvert_exporter": "python",
   "pygments_lexer": "ipython3",
   "version": "3.6.3"
  }
 },
 "nbformat": 4,
 "nbformat_minor": 2
}
