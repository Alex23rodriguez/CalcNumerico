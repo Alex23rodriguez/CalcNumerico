{
 "cells": [
  {
   "cell_type": "code",
   "execution_count": 1,
   "metadata": {
    "scrolled": true
   },
   "outputs": [],
   "source": [
    "from IPython.display import Latex\n",
    "import latexStrings as ls\n",
    "import numpy as np\n",
    "import scipy.linalg as linear\n",
    "import eigenvalues as ev"
   ]
  },
  {
   "cell_type": "code",
   "execution_count": 2,
   "metadata": {
    "scrolled": true
   },
   "outputs": [
    {
     "data": {
      "text/latex": [
       "\\[ \n",
       "A = \n",
       "\\begin{pmatrix} \n",
       "0 & 1 & 2 \\\\ \n",
       "1 & 0 & 1 \\\\ \n",
       "2 & 1 & 0 \\\\ \n",
       "\\end{pmatrix}\n",
       " \\]"
      ],
      "text/plain": [
       "<IPython.core.display.Latex object>"
      ]
     },
     "execution_count": 2,
     "metadata": {},
     "output_type": "execute_result"
    }
   ],
   "source": [
    "A=np.array([[0,1,2],[1,0,1],[2,1,0]])\n",
    "\n",
    "a=ls.latexMatrix(A,'A')\n",
    "Latex(a)"
   ]
  },
  {
   "cell_type": "code",
   "execution_count": 3,
   "metadata": {
    "scrolled": false
   },
   "outputs": [
    {
     "data": {
      "text/latex": [
       "\\[ \n",
       " \\vec{\\lambda} = \n",
       "\\begin{pmatrix} \n",
       "2.7320508075688763+0i \\\\ \n",
       "-2.0000000000000004+0i \\\\ \n",
       "-0.7320508075688775+0i \\\\ \n",
       "\\end{pmatrix}\n",
       " \\]\n",
       "\\[ \n",
       "V = \n",
       "\\begin{pmatrix} \n",
       "-0.6279630301995544 & -0.7071067811865475 & 0.32505758367186816 \\\\ \n",
       "-0.45970084338098305 & 1.6435286308661583e-16 & -0.8880738339771153 \\\\ \n",
       "-0.6279630301995542 & 0.7071067811865476 & 0.3250575836718683 \\\\ \n",
       "\\end{pmatrix}\n",
       " \\]"
      ],
      "text/plain": [
       "<IPython.core.display.Latex object>"
      ]
     },
     "execution_count": 3,
     "metadata": {},
     "output_type": "execute_result"
    }
   ],
   "source": [
    "[lam,V]=linear.eig(A)\n",
    "\n",
    "l=ls.latexVector(lam,'\\lambda', form='%s', complx=True)\n",
    "v=ls.latexMatrix(V,'V', form='%s')\n",
    "Latex(l+'\\n'+v)"
   ]
  },
  {
   "cell_type": "code",
   "execution_count": 4,
   "metadata": {
    "scrolled": false
   },
   "outputs": [
    {
     "data": {
      "text/latex": [
       "Iteraciones totales: 80\n",
       "\\[ \n",
       "T = \n",
       "\\begin{pmatrix} \n",
       "2.7321 & 0.0000 & 0.0000 \\\\ \n",
       "0.0000 & -2.0000 & 0.0000 \\\\ \n",
       "0.0000 & -0.0000 & -0.7321 \\\\ \n",
       "\\end{pmatrix}\n",
       " \\]"
      ],
      "text/plain": [
       "<IPython.core.display.Latex object>"
      ]
     },
     "execution_count": 4,
     "metadata": {},
     "output_type": "execute_result"
    }
   ],
   "source": [
    "[T,iterations] = ev.simpleQR(A,1e-10)\n",
    "\n",
    "t=ls.latexMatrix(T,'T', form='%0.4f')\n",
    "Latex('Iteraciones totales: '+str(iterations)+'\\n'+t)"
   ]
  },
  {
   "cell_type": "code",
   "execution_count": 5,
   "metadata": {},
   "outputs": [
    {
     "data": {
      "text/latex": [
       "Iteraciones totales: 4\n",
       "\\[ \n",
       "T = \n",
       "\\begin{pmatrix} \n",
       "2.7232 & 0.2043 & 0.0000 \\\\ \n",
       "0.2043 & -1.9912 & -0.0000 \\\\ \n",
       "0.0000 & -0.0000 & -0.7321 \\\\ \n",
       "\\end{pmatrix}\n",
       " \\]"
      ],
      "text/plain": [
       "<IPython.core.display.Latex object>"
      ]
     },
     "execution_count": 5,
     "metadata": {},
     "output_type": "execute_result"
    }
   ],
   "source": [
    "[T,iterations] = ev.shiftQRStep(A,1e-10)\n",
    "\n",
    "t = ls.latexMatrix(T,'T', form='%0.4f')\n",
    "Latex('Iteraciones totales: '+str(iterations)+'\\n'+t)"
   ]
  },
  {
   "cell_type": "code",
   "execution_count": 6,
   "metadata": {
    "scrolled": false
   },
   "outputs": [
    {
     "data": {
      "text/latex": [
       "Iteraciones totales: 4\n",
       "\\[ \n",
       " \\vec{\\lambda} = \n",
       "\\begin{pmatrix} \n",
       "2.7321 \\\\ \n",
       "-2.0000 \\\\ \n",
       "-0.7321 \\\\ \n",
       "\\end{pmatrix}\n",
       " \\]"
      ],
      "text/plain": [
       "<IPython.core.display.Latex object>"
      ]
     },
     "execution_count": 6,
     "metadata": {},
     "output_type": "execute_result"
    }
   ],
   "source": [
    "[lam,iteraciones]=ev.shiftQR(A,1e-10)\n",
    "\n",
    "l=ls.latexVector(lam,'\\lambda', form='%0.04f')\n",
    "Latex('Iteraciones totales: ' + str(iterations) +'\\n' + l)"
   ]
  },
  {
   "cell_type": "code",
   "execution_count": 7,
   "metadata": {
    "scrolled": false
   },
   "outputs": [
    {
     "data": {
      "text/latex": [
       "\\[ \n",
       "B = \n",
       "\\begin{pmatrix} \n",
       "0 & 1 & 2 \\\\ \n",
       "1 & 0 & 1 \\\\ \n",
       "2 & 1 & 0 \\\\ \n",
       "\\end{pmatrix}\n",
       " \\]"
      ],
      "text/plain": [
       "<IPython.core.display.Latex object>"
      ]
     },
     "execution_count": 7,
     "metadata": {},
     "output_type": "execute_result"
    }
   ],
   "source": [
    "B=np.array([[0,1,2],[1,0,1],[2,1,0]])\n",
    "\n",
    "b=ls.latexMatrix(B,'B')\n",
    "Latex(b)"
   ]
  },
  {
   "cell_type": "code",
   "execution_count": 8,
   "metadata": {
    "scrolled": true
   },
   "outputs": [
    {
     "data": {
      "text/latex": [
       "Iteraciones totales: 80\n",
       "\\[ \n",
       "T = \n",
       "\\begin{pmatrix} \n",
       "2.732050807568878 & 7.760521789074685e-11 & 4.521724202466033e-16 \\\\ \n",
       "7.760652723352963e-11 & -1.9999999999999998 & 3.463441601656751e-16 \\\\ \n",
       "1.7192214215966695e-45 & -3.3229577772948335e-35 & -0.7320508075688774 \\\\ \n",
       "\\end{pmatrix}\n",
       " \\]\n",
       "\\[ \n",
       "V = \n",
       "\\begin{pmatrix} \n",
       "0.6279630302111529 & -0.7071067811762484 & 0.325057583671868 \\\\ \n",
       "0.4597008433809843 & 7.538848178427325e-12 & -0.888073833977115 \\\\ \n",
       "0.6279630301879591 & 0.7071067811968469 & 0.32505758367186816 \\\\ \n",
       "\\end{pmatrix}\n",
       " \\]"
      ],
      "text/plain": [
       "<IPython.core.display.Latex object>"
      ]
     },
     "execution_count": 8,
     "metadata": {},
     "output_type": "execute_result"
    }
   ],
   "source": [
    "[T,V,iterations]=ev.simpleQR(B,1e-10,symmetric=True)\n",
    "\n",
    "v=ls.latexMatrix(V,'V', form='%s')\n",
    "t=ls.latexMatrix(T,'T', form='%s')\n",
    "Latex('Iteraciones totales: '+ str(iterations) + '\\n' + t + '\\n' + v)"
   ]
  },
  {
   "cell_type": "code",
   "execution_count": 9,
   "metadata": {
    "scrolled": false
   },
   "outputs": [
    {
     "data": {
      "text/latex": [
       "Iteraciones totales: 4\n",
       "\\[ \n",
       "T = \n",
       "\\begin{pmatrix} \n",
       "2.7254 & 0.1773 & -0.0000 \\\\ \n",
       "0.1773 & -1.9933 & 0.0000 \\\\ \n",
       "-0.0000 & 0.0000 & -0.7321 \\\\ \n",
       "\\end{pmatrix}\n",
       " \\]\n",
       "\\[ \n",
       "V = \n",
       "\\begin{pmatrix} \n",
       "0.6540347044227328 & -0.683063813057078 & 0.325057583671868 \\\\ \n",
       "0.45937758170714954 & 0.017236671084592103 & -0.8880738339771153 \\\\ \n",
       "0.6010081886593225 & 0.7301552742135377 & 0.3250575836718679 \\\\ \n",
       "\\end{pmatrix}\n",
       " \\]"
      ],
      "text/plain": [
       "<IPython.core.display.Latex object>"
      ]
     },
     "execution_count": 9,
     "metadata": {},
     "output_type": "execute_result"
    }
   ],
   "source": [
    "[T,V,iterations]=ev.shiftQRStep(B,1e-10, symmetric=True)\n",
    "v=ls.latexMatrix(V,'V',form='%s')\n",
    "t = ls.latexMatrix(T,'T', form='%0.4f')\n",
    "Latex('Iteraciones totales: '+str(iterations)+'\\n'+t + '\\n'+v)"
   ]
  },
  {
   "cell_type": "code",
   "execution_count": 10,
   "metadata": {
    "scrolled": false
   },
   "outputs": [
    {
     "data": {
      "text/latex": [
       "Iteraciones totales: 4\n",
       "\\[ \n",
       " \\vec{\\lambda} = \n",
       "\\begin{pmatrix} \n",
       "2.7321 \\\\ \n",
       "-2.0000 \\\\ \n",
       "-0.7321 \\\\ \n",
       "\\end{pmatrix}\n",
       " \\]\n",
       "\\[ \n",
       "V = \n",
       "\\begin{pmatrix} \n",
       "0.627963 & -0.707107 & 0.325058 \\\\ \n",
       "0.459701 & -0.000000 & -0.888074 \\\\ \n",
       "0.627963 & 0.707107 & 0.325058 \\\\ \n",
       "\\end{pmatrix}\n",
       " \\]"
      ],
      "text/plain": [
       "<IPython.core.display.Latex object>"
      ]
     },
     "execution_count": 10,
     "metadata": {},
     "output_type": "execute_result"
    }
   ],
   "source": [
    "[lam,V,iterations] = ev.shiftQR(B,1e-10, symmetric=True)\n",
    "v=ls.latexMatrix(V,'V',form='%f')\n",
    "l=ls.latexVector(lam,'\\lambda', form='%0.04f')\n",
    "Latex('Iteraciones totales: ' + str(iterations) +'\\n' + l + '\\n'+v)"
   ]
  }
 ],
 "metadata": {
  "kernelspec": {
   "display_name": "Python 3",
   "language": "python",
   "name": "python3"
  },
  "language_info": {
   "codemirror_mode": {
    "name": "ipython",
    "version": 3
   },
   "file_extension": ".py",
   "mimetype": "text/x-python",
   "name": "python",
   "nbconvert_exporter": "python",
   "pygments_lexer": "ipython3",
   "version": "3.6.4"
  }
 },
 "nbformat": 4,
 "nbformat_minor": 2
}
