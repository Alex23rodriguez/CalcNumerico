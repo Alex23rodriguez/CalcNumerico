{
 "cells": [
  {
   "cell_type": "code",
   "execution_count": 1,
   "metadata": {},
   "outputs": [],
   "source": [
    "import numpy as np\n",
    "import scipy.linalg as linear\n",
    "\n",
    "#QR Methods\n",
    "def simpleQR(A, tol, maxIter=1e3):\n",
    "    i = 0\n",
    "    while i < maxIter and linear.norm(A.diagonal(-1))>tol:\n",
    "        [Q,R] = linear.qr(A)\n",
    "        A = R.dot(Q)\n",
    "        i += 1\n",
    "    return A,i\n",
    "\n",
    "def shiftQRStep(A, tol):\n",
    "    i = 0\n",
    "    while A[-1,-2]>tol:\n",
    "        shift = A[-1,-1]\n",
    "        [Q,R] = linear.qr(A-shift*np.identity(len(A)))\n",
    "        A = R.dot(Q)+shift*np.identity(len(A))\n",
    "        i += 1\n",
    "    return A,i\n",
    "\n",
    "def shiftQR(A, tol, maxIter=1e3):\n",
    "    i = 0\n",
    "    A = linear.hessenberg(A)\n",
    "    eigenvalues = []\n",
    "    while i<maxIter and len(A)>1:\n",
    "        [A,j] = shiftQRStep(A,tol)\n",
    "        eigenvalues.append(A[-1,-1])\n",
    "        A = A[:-1,:-1]\n",
    "        i += j\n",
    "    eigenvalues.append(A[0,0])\n",
    "    return eigenvalues,i"
   ]
  },
  {
   "cell_type": "code",
   "execution_count": 2,
   "metadata": {
    "scrolled": false
   },
   "outputs": [
    {
     "name": "stdout",
     "output_type": "stream",
     "text": [
      "A\n",
      "[[0 1 2]\n",
      " [1 0 1]\n",
      " [2 1 0]]\n"
     ]
    }
   ],
   "source": [
    "A=np.array([[0,1,2],[1,0,1],[2,1,0]])\n",
    "print(\"A\")\n",
    "print(A)"
   ]
  },
  {
   "cell_type": "code",
   "execution_count": 3,
   "metadata": {},
   "outputs": [
    {
     "data": {
      "text/plain": [
       "(array([ 2.73205081+0.j, -2.00000000+0.j, -0.73205081+0.j]),\n",
       " array([[ -6.27963030e-01,  -7.07106781e-01,   3.25057584e-01],\n",
       "        [ -4.59700843e-01,   1.64352863e-16,  -8.88073834e-01],\n",
       "        [ -6.27963030e-01,   7.07106781e-01,   3.25057584e-01]]))"
      ]
     },
     "execution_count": 3,
     "metadata": {},
     "output_type": "execute_result"
    }
   ],
   "source": [
    "linear.eig(A)"
   ]
  },
  {
   "cell_type": "code",
   "execution_count": 4,
   "metadata": {
    "scrolled": false
   },
   "outputs": [
    {
     "data": {
      "text/plain": [
       "(array([[  2.73205081e+00,   7.76052179e-11,   4.52172420e-16],\n",
       "        [  7.76065272e-11,  -2.00000000e+00,   3.46344160e-16],\n",
       "        [  1.71922142e-45,  -3.32295778e-35,  -7.32050808e-01]]), 80)"
      ]
     },
     "execution_count": 4,
     "metadata": {},
     "output_type": "execute_result"
    }
   ],
   "source": [
    "simpleQR(A,10**-10)"
   ]
  },
  {
   "cell_type": "code",
   "execution_count": 5,
   "metadata": {
    "scrolled": true
   },
   "outputs": [
    {
     "data": {
      "text/plain": [
       "(array([[ 0.8       , -1.79629248,  1.46059349],\n",
       "        [-1.79629248, -0.13333333, -0.2981424 ],\n",
       "        [ 1.46059349, -0.2981424 , -0.66666667]]), 1)"
      ]
     },
     "execution_count": 5,
     "metadata": {},
     "output_type": "execute_result"
    }
   ],
   "source": [
    "shiftQRStep(A,10**-10)"
   ]
  },
  {
   "cell_type": "code",
   "execution_count": 6,
   "metadata": {
    "scrolled": true
   },
   "outputs": [
    {
     "data": {
      "text/plain": [
       "([-0.73205080756887753, -1.9999999999999998, 2.7320508075688763], 5)"
      ]
     },
     "execution_count": 6,
     "metadata": {},
     "output_type": "execute_result"
    }
   ],
   "source": [
    "shiftQR(A,10**-10)"
   ]
  }
 ],
 "metadata": {
  "kernelspec": {
   "display_name": "Python 3",
   "language": "python",
   "name": "python3"
  },
  "language_info": {
   "codemirror_mode": {
    "name": "ipython",
    "version": 3
   },
   "file_extension": ".py",
   "mimetype": "text/x-python",
   "name": "python",
   "nbconvert_exporter": "python",
   "pygments_lexer": "ipython3",
   "version": "3.6.3"
  }
 },
 "nbformat": 4,
 "nbformat_minor": 2
}
