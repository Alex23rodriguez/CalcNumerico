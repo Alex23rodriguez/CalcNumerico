{
 "cells": [
  {
   "cell_type": "code",
   "execution_count": 1,
   "metadata": {},
   "outputs": [],
   "source": [
    "from IPython.display import Latex\n",
    "import latexStrings as ls\n",
    "import numpy as np\n",
    "import scipy.linalg as linear\n",
    "\n",
    "def simpleQR(A, tol, maxIter=1e3, symmetric=False):\n",
    "    i = 0\n",
    "    if not symmetric:\n",
    "        while i < maxIter and linear.norm(A.diagonal(-1))>tol:\n",
    "            [Q,R] = linear.qr(A)\n",
    "            A = R.dot(Q)\n",
    "            i += 1\n",
    "        return A,i\n",
    "    else:\n",
    "        V=np.identity(len(A))\n",
    "        while i < maxIter and linear.norm(A.diagonal(-1))>tol:\n",
    "            [Q,R] = linear.qr(A)\n",
    "            A = R.dot(Q)\n",
    "            V = V.dot(Q)\n",
    "            i += 1\n",
    "        return A,V,i\n",
    "\n",
    "def shiftQRStep(A, tol, symmetric=False):\n",
    "    i = 0\n",
    "    if not symmetric:\n",
    "        while abs(A[-1,-2])>tol:\n",
    "            shift = A[-1,-1]\n",
    "            [Q,R] = linear.qr(A-shift*np.identity(len(A)))\n",
    "            A = R.dot(Q)+shift*np.identity(len(A))\n",
    "            i += 1\n",
    "        return A,i\n",
    "    else:\n",
    "        #Acumular eigenvectores\n",
    "        while abs(A[-1,-2])>tol:\n",
    "            delta = 0.5*(A[-2,-2]-A[-1,-1])\n",
    "            shift = A[-1,-1] - np.sign(delta)*((A[-2,-1]**2)/(abs(delta)+np.sqrt(delta**2+A[-2,-1]**2)))\n",
    "            [Q,R] = linear.qr(A-shift*np.identity(len(A)))\n",
    "            A = R.dot(Q)+shift*np.identity(len(A))\n",
    "            i += 1\n",
    "        return A,i\n",
    "\n",
    "def shiftQR(A, tol, maxIter=1e3, symmetric=False):\n",
    "    i = 0\n",
    "    A = linear.hessenberg(A)\n",
    "    eigenvalues = []\n",
    "    if not symmetric:\n",
    "        while i<maxIter and len(A)>1:\n",
    "            [A,j] = shiftQRStep(A,tol)\n",
    "            eigenvalues.append(A[-1,-1])\n",
    "            A = A[:-1,:-1]\n",
    "            i += j\n",
    "        eigenvalues.append(A[0,0])\n",
    "        return np.array(eigenvalues),i\n",
    "    else:\n",
    "        while i<maxIter and len(A)>1:\n",
    "            [A,j] = shiftQRStep(A,tol, True)\n",
    "            eigenvalues.append(A[-1,-1])\n",
    "            A = A[:-1,:-1]\n",
    "            i += j\n",
    "        eigenvalues.append(A[0,0])\n",
    "        return np.array(eigenvalues),i"
   ]
  },
  {
   "cell_type": "code",
   "execution_count": 8,
   "metadata": {
    "scrolled": true
   },
   "outputs": [
    {
     "data": {
      "text/latex": [
       "\\[ \n",
       "A = \n",
       "\\begin{pmatrix} \n",
       "0 & 1 & 2 \\\\ \n",
       "1 & 0 & 1 \\\\ \n",
       "2 & 1 & 0 \\\\ \n",
       "\\end{pmatrix}\n",
       " \\]"
      ],
      "text/plain": [
       "<IPython.core.display.Latex object>"
      ]
     },
     "execution_count": 8,
     "metadata": {},
     "output_type": "execute_result"
    }
   ],
   "source": [
    "A=np.array([[0,1,2],[1,0,1],[2,1,0]])\n",
    "\n",
    "a=ls.latexMatrix(A,'A')\n",
    "Latex(a)"
   ]
  },
  {
   "cell_type": "code",
   "execution_count": 3,
   "metadata": {
    "scrolled": true
   },
   "outputs": [
    {
     "data": {
      "text/latex": [
       "\\[ \n",
       " \\vec{\\lambda} = \n",
       "\\begin{pmatrix} \n",
       "2.7321 \\\\ \n",
       "-2.0000 \\\\ \n",
       "-0.7321 \\\\ \n",
       "\\end{pmatrix}\n",
       " \\]\n",
       "\\[ \n",
       "V = \n",
       "\\begin{pmatrix} \n",
       "-0.6280 & -0.7071 & 0.3251 \\\\ \n",
       "-0.4597 & 0.0000 & -0.8881 \\\\ \n",
       "-0.6280 & 0.7071 & 0.3251 \\\\ \n",
       "\\end{pmatrix}\n",
       " \\]"
      ],
      "text/plain": [
       "<IPython.core.display.Latex object>"
      ]
     },
     "execution_count": 3,
     "metadata": {},
     "output_type": "execute_result"
    }
   ],
   "source": [
    "[lam,V]=linear.eig(A)\n",
    "\n",
    "l=ls.latexVector(lam,'\\lambda', form='%0.04f')\n",
    "v=ls.latexMatrix(V,'V', form='%0.4f')\n",
    "Latex(l+'\\n'+v)"
   ]
  },
  {
   "cell_type": "code",
   "execution_count": 4,
   "metadata": {
    "scrolled": false
   },
   "outputs": [
    {
     "data": {
      "text/latex": [
       "Iteraciones totales: 80\n",
       "\\[ \n",
       "T = \n",
       "\\begin{pmatrix} \n",
       "2.7321 & 0.0000 & 0.0000 \\\\ \n",
       "0.0000 & -2.0000 & 0.0000 \\\\ \n",
       "0.0000 & -0.0000 & -0.7321 \\\\ \n",
       "\\end{pmatrix}\n",
       " \\]"
      ],
      "text/plain": [
       "<IPython.core.display.Latex object>"
      ]
     },
     "execution_count": 4,
     "metadata": {},
     "output_type": "execute_result"
    }
   ],
   "source": [
    "[T,iterations] = simpleQR(A,1e-10)\n",
    "\n",
    "t=ls.latexMatrix(T,'T', form='%0.4f')\n",
    "Latex('Iteraciones totales: '+str(iterations)+'\\n'+t)"
   ]
  },
  {
   "cell_type": "code",
   "execution_count": 5,
   "metadata": {},
   "outputs": [
    {
     "data": {
      "text/latex": [
       "Iteraciones totales: 4\n",
       "\\[ \n",
       "T = \n",
       "\\begin{pmatrix} \n",
       "2.7232 & 0.2043 & 0.0000 \\\\ \n",
       "0.2043 & -1.9912 & -0.0000 \\\\ \n",
       "0.0000 & -0.0000 & -0.7321 \\\\ \n",
       "\\end{pmatrix}\n",
       " \\]"
      ],
      "text/plain": [
       "<IPython.core.display.Latex object>"
      ]
     },
     "execution_count": 5,
     "metadata": {},
     "output_type": "execute_result"
    }
   ],
   "source": [
    "[T,iterations] = shiftQRStep(A,1e-10)\n",
    "\n",
    "t = ls.latexMatrix(T,'T', form='%0.4f')\n",
    "Latex('Iteraciones totales: '+str(iterations)+'\\n'+t)"
   ]
  },
  {
   "cell_type": "code",
   "execution_count": 6,
   "metadata": {
    "scrolled": false
   },
   "outputs": [
    {
     "data": {
      "text/latex": [
       "Iteraciones totales: 4\n",
       "\\[ \n",
       " \\vec{\\lambda} = \n",
       "\\begin{pmatrix} \n",
       "-0.7321 \\\\ \n",
       "-2.0000 \\\\ \n",
       "2.7321 \\\\ \n",
       "\\end{pmatrix}\n",
       " \\]"
      ],
      "text/plain": [
       "<IPython.core.display.Latex object>"
      ]
     },
     "execution_count": 6,
     "metadata": {},
     "output_type": "execute_result"
    }
   ],
   "source": [
    "[lam,iteraciones]=shiftQR(A,1e-10)\n",
    "\n",
    "l=ls.latexVector(lam,'\\lambda', form='%0.04f')\n",
    "Latex('Iteraciones totales: ' + str(iterations) +'\\n' + l)"
   ]
  },
  {
   "cell_type": "code",
   "execution_count": 9,
   "metadata": {
    "scrolled": false
   },
   "outputs": [
    {
     "data": {
      "text/latex": [
       "\\[ \n",
       "B = \n",
       "\\begin{pmatrix} \n",
       "0 & 1 & 2 \\\\ \n",
       "1 & 0 & 1 \\\\ \n",
       "2 & 1 & 0 \\\\ \n",
       "\\end{pmatrix}\n",
       " \\]"
      ],
      "text/plain": [
       "<IPython.core.display.Latex object>"
      ]
     },
     "execution_count": 9,
     "metadata": {},
     "output_type": "execute_result"
    }
   ],
   "source": [
    "B=np.array([[0,1,2],[1,0,1],[2,1,0]])\n",
    "\n",
    "b=ls.latexMatrix(B,'B')\n",
    "Latex(b)"
   ]
  },
  {
   "cell_type": "code",
   "execution_count": 10,
   "metadata": {
    "scrolled": true
   },
   "outputs": [
    {
     "data": {
      "text/latex": [
       "Iteraciones totales: 80\n",
       "\\[ \n",
       "T = \n",
       "\\begin{pmatrix} \n",
       "2.7321 & 0.0000 & 0.0000 \\\\ \n",
       "0.0000 & -2.0000 & 0.0000 \\\\ \n",
       "0.0000 & -0.0000 & -0.7321 \\\\ \n",
       "\\end{pmatrix}\n",
       " \\]\n",
       "\\[ \n",
       "V = \n",
       "\\begin{pmatrix} \n",
       "0.6280 & -0.7071 & 0.3251 \\\\ \n",
       "0.4597 & 0.0000 & -0.8881 \\\\ \n",
       "0.6280 & 0.7071 & 0.3251 \\\\ \n",
       "\\end{pmatrix}\n",
       " \\]"
      ],
      "text/plain": [
       "<IPython.core.display.Latex object>"
      ]
     },
     "execution_count": 10,
     "metadata": {},
     "output_type": "execute_result"
    }
   ],
   "source": [
    "[T,V,iterations]=simpleQR(B,1e-10,symmetric=True)\n",
    "\n",
    "v=ls.latexMatrix(V,'V', form='%0.4f')\n",
    "t=ls.latexMatrix(T,'T', form='%0.4f')\n",
    "Latex('Iteraciones totales: '+ str(iterations) + '\\n' + t + '\\n' + v)"
   ]
  },
  {
   "cell_type": "code",
   "execution_count": 11,
   "metadata": {},
   "outputs": [
    {
     "data": {
      "text/latex": [
       "Iteraciones totales: 4\n",
       "\\[ \n",
       "T = \n",
       "\\begin{pmatrix} \n",
       "2.7254 & 0.1773 & -0.0000 \\\\ \n",
       "0.1773 & -1.9933 & 0.0000 \\\\ \n",
       "-0.0000 & 0.0000 & -0.7321 \\\\ \n",
       "\\end{pmatrix}\n",
       " \\]"
      ],
      "text/plain": [
       "<IPython.core.display.Latex object>"
      ]
     },
     "execution_count": 11,
     "metadata": {},
     "output_type": "execute_result"
    }
   ],
   "source": [
    "[T,iterations]=shiftQRStep(B,1e-10, symmetric=True)\n",
    "\n",
    "t = ls.latexMatrix(T,'T', form='%0.4f')\n",
    "Latex('Iteraciones totales: '+str(iterations)+'\\n'+t)"
   ]
  },
  {
   "cell_type": "code",
   "execution_count": 12,
   "metadata": {
    "scrolled": true
   },
   "outputs": [
    {
     "data": {
      "text/latex": [
       "Iteraciones totales: 4\n",
       "\\[ \n",
       " \\vec{\\lambda} = \n",
       "\\begin{pmatrix} \n",
       "-0.7321 \\\\ \n",
       "-2.0000 \\\\ \n",
       "2.7321 \\\\ \n",
       "\\end{pmatrix}\n",
       " \\]"
      ],
      "text/plain": [
       "<IPython.core.display.Latex object>"
      ]
     },
     "execution_count": 12,
     "metadata": {},
     "output_type": "execute_result"
    }
   ],
   "source": [
    "[lam,iterations] = shiftQR(B,1e-10, symmetric=True)\n",
    "\n",
    "l=ls.latexVector(lam,'\\lambda', form='%0.04f')\n",
    "Latex('Iteraciones totales: ' + str(iterations) +'\\n' + l)"
   ]
  },
  {
   "cell_type": "code",
   "execution_count": null,
   "metadata": {},
   "outputs": [],
   "source": []
  }
 ],
 "metadata": {
  "kernelspec": {
   "display_name": "Python 3",
   "language": "python",
   "name": "python3"
  },
  "language_info": {
   "codemirror_mode": {
    "name": "ipython",
    "version": 3
   },
   "file_extension": ".py",
   "mimetype": "text/x-python",
   "name": "python",
   "nbconvert_exporter": "python",
   "pygments_lexer": "ipython3",
   "version": "3.6.4"
  }
 },
 "nbformat": 4,
 "nbformat_minor": 2
}
