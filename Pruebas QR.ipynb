{
 "cells": [
  {
   "cell_type": "code",
   "execution_count": 1,
   "metadata": {
    "scrolled": true
   },
   "outputs": [],
   "source": [
    "import numpy as np\n",
    "import scipy.linalg as linear\n",
    "\n",
    "#QR Methods\n",
    "def simpleQR(A, tol, maxIter=1e3, symmetric=False):\n",
    "    i = 0\n",
    "    if not symmetric:\n",
    "        while i < maxIter and linear.norm(A.diagonal(-1))>tol:\n",
    "            [Q,R] = linear.qr(A)\n",
    "            A = R.dot(Q)\n",
    "            i += 1\n",
    "        return A,i\n",
    "    else:\n",
    "        V=np.identity(len(A))\n",
    "        while i < maxIter and linear.norm(A.diagonal(-1))>tol:\n",
    "            [Q,R] = linear.qr(A)\n",
    "            A = R.dot(Q)\n",
    "            V = V.dot(Q)\n",
    "            i += 1\n",
    "        return A,V,i\n",
    "\n",
    "def shiftQRStep(A, tol, symmetric=False):\n",
    "    i = 0\n",
    "    if not symmetric:\n",
    "        while abs(A[-1,-2])>tol:\n",
    "            shift = A[-1,-1]\n",
    "            [Q,R] = linear.qr(A-shift*np.identity(len(A)))\n",
    "            A = R.dot(Q)+shift*np.identity(len(A))\n",
    "            i += 1\n",
    "        return A,i\n",
    "    else:\n",
    "        #Acumular eigenvectores\n",
    "        while abs(A[-1,-2])>tol:\n",
    "            delta = 0.5*(A[-2,-2]-A[-1,-1])\n",
    "            shift = A[-1,-1] - np.sign(delta)*((A[-2,-1]**2)/(abs(delta)+np.sqrt(delta**2+A[-2,-1]**2)))\n",
    "            [Q,R] = linear.qr(A-shift*np.identity(len(A)))\n",
    "            A = R.dot(Q)+shift*np.identity(len(A))\n",
    "            i += 1\n",
    "        return A,i\n",
    "\n",
    "def shiftQR(A, tol, maxIter=1e3, symmetric=False):\n",
    "    i = 0\n",
    "    A = linear.hessenberg(A)\n",
    "    eigenvalues = []\n",
    "    if not symmetric:\n",
    "        while i<maxIter and len(A)>1:\n",
    "            [A,j] = shiftQRStep(A,tol)\n",
    "            eigenvalues.append(A[-1,-1])\n",
    "            A = A[:-1,:-1]\n",
    "            i += j\n",
    "        eigenvalues.append(A[0,0])\n",
    "        return eigenvalues,i\n",
    "    else:\n",
    "        while i<maxIter and len(A)>1:\n",
    "            [A,j] = shiftQRStep(A,tol, True)\n",
    "            eigenvalues.append(A[-1,-1])\n",
    "            A = A[:-1,:-1]\n",
    "            i += j\n",
    "        eigenvalues.append(A[0,0])\n",
    "        return eigenvalues,i"
   ]
  },
  {
   "cell_type": "code",
   "execution_count": 2,
   "metadata": {
    "scrolled": true
   },
   "outputs": [
    {
     "name": "stdout",
     "output_type": "stream",
     "text": [
      "A\n",
      "[[0 1 2]\n",
      " [1 0 1]\n",
      " [2 1 0]]\n"
     ]
    }
   ],
   "source": [
    "A=np.array([[0,1,2],[1,0,1],[2,1,0]])\n",
    "print(\"A\")\n",
    "print(A)"
   ]
  },
  {
   "cell_type": "code",
   "execution_count": 3,
   "metadata": {},
   "outputs": [
    {
     "data": {
      "text/plain": [
       "(array([ 2.73205081+0.j, -2.00000000+0.j, -0.73205081+0.j]),\n",
       " array([[ -6.27963030e-01,  -7.07106781e-01,   3.25057584e-01],\n",
       "        [ -4.59700843e-01,   1.64352863e-16,  -8.88073834e-01],\n",
       "        [ -6.27963030e-01,   7.07106781e-01,   3.25057584e-01]]))"
      ]
     },
     "execution_count": 3,
     "metadata": {},
     "output_type": "execute_result"
    }
   ],
   "source": [
    "linear.eig(A)"
   ]
  },
  {
   "cell_type": "code",
   "execution_count": 4,
   "metadata": {
    "scrolled": false
   },
   "outputs": [
    {
     "data": {
      "text/plain": [
       "(array([[  2.73205081e+00,   7.76052179e-11,   4.52172420e-16],\n",
       "        [  7.76065272e-11,  -2.00000000e+00,   3.46344160e-16],\n",
       "        [  1.71922142e-45,  -3.32295778e-35,  -7.32050808e-01]]), 80)"
      ]
     },
     "execution_count": 4,
     "metadata": {},
     "output_type": "execute_result"
    }
   ],
   "source": [
    "simpleQR(A,1e-10)"
   ]
  },
  {
   "cell_type": "code",
   "execution_count": 5,
   "metadata": {
    "scrolled": true
   },
   "outputs": [
    {
     "data": {
      "text/plain": [
       "(array([[  2.72321536e+00,   2.04283468e-01,   1.93389107e-14],\n",
       "        [  2.04283468e-01,  -1.99116455e+00,  -1.44199598e-13],\n",
       "        [  1.97668268e-14,  -1.44287698e-13,  -7.32050808e-01]]), 4)"
      ]
     },
     "execution_count": 5,
     "metadata": {},
     "output_type": "execute_result"
    }
   ],
   "source": [
    "shiftQRStep(A,1e-10)"
   ]
  },
  {
   "cell_type": "code",
   "execution_count": 6,
   "metadata": {
    "scrolled": false
   },
   "outputs": [
    {
     "data": {
      "text/plain": [
       "([-0.73205080756887753, -1.9999999999999998, 2.7320508075688763], 5)"
      ]
     },
     "execution_count": 6,
     "metadata": {},
     "output_type": "execute_result"
    }
   ],
   "source": [
    "shiftQR(A,1e-10)"
   ]
  },
  {
   "cell_type": "code",
   "execution_count": 7,
   "metadata": {},
   "outputs": [
    {
     "name": "stdout",
     "output_type": "stream",
     "text": [
      "B\n",
      "[[0 1 2]\n",
      " [1 0 1]\n",
      " [2 1 0]]\n"
     ]
    }
   ],
   "source": [
    "B=np.array([[0,1,2],[1,0,1],[2,1,0]])\n",
    "print(\"B\")\n",
    "print(B)"
   ]
  },
  {
   "cell_type": "code",
   "execution_count": 8,
   "metadata": {
    "scrolled": false
   },
   "outputs": [
    {
     "data": {
      "text/plain": [
       "(array([[  2.73205081e+00,   7.76052179e-11,   4.52172420e-16],\n",
       "        [  7.76065272e-11,  -2.00000000e+00,   3.46344160e-16],\n",
       "        [  1.71922142e-45,  -3.32295778e-35,  -7.32050808e-01]]),\n",
       " array([[  6.27963030e-01,  -7.07106781e-01,   3.25057584e-01],\n",
       "        [  4.59700843e-01,   7.53884818e-12,  -8.88073834e-01],\n",
       "        [  6.27963030e-01,   7.07106781e-01,   3.25057584e-01]]),\n",
       " 80)"
      ]
     },
     "execution_count": 8,
     "metadata": {},
     "output_type": "execute_result"
    }
   ],
   "source": [
    "simpleQR(B,1e-10,symmetric=True)"
   ]
  },
  {
   "cell_type": "code",
   "execution_count": 9,
   "metadata": {
    "scrolled": false
   },
   "outputs": [
    {
     "data": {
      "text/plain": [
       "(array([[  2.72539799e+00,   1.77305411e-01,  -1.24562699e-16],\n",
       "        [  1.77305411e-01,  -1.99334718e+00,   7.15451361e-17],\n",
       "        [ -2.77090007e-22,   2.33377864e-21,  -7.32050808e-01]]), 4)"
      ]
     },
     "execution_count": 9,
     "metadata": {},
     "output_type": "execute_result"
    }
   ],
   "source": [
    "shiftQRStep(B,1e-10, symmetric=True)"
   ]
  },
  {
   "cell_type": "code",
   "execution_count": 10,
   "metadata": {},
   "outputs": [
    {
     "data": {
      "text/plain": [
       "([-0.73205080756887753, -2.0000000000000009, 2.7320508075688776], 4)"
      ]
     },
     "execution_count": 10,
     "metadata": {},
     "output_type": "execute_result"
    }
   ],
   "source": [
    "shiftQR(B,1e-10, symmetric=True)"
   ]
  }
 ],
 "metadata": {
  "kernelspec": {
   "display_name": "Python 3",
   "language": "python",
   "name": "python3"
  },
  "language_info": {
   "codemirror_mode": {
    "name": "ipython",
    "version": 3
   },
   "file_extension": ".py",
   "mimetype": "text/x-python",
   "name": "python",
   "nbconvert_exporter": "python",
   "pygments_lexer": "ipython3",
   "version": "3.6.3"
  }
 },
 "nbformat": 4,
 "nbformat_minor": 2
}
