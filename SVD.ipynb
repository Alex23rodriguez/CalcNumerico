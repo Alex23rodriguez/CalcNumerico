{
 "cells": [
  {
   "cell_type": "code",
   "execution_count": 206,
   "metadata": {
    "collapsed": true
   },
   "outputs": [],
   "source": [
    "import eigenvalues"
   ]
  },
  {
   "cell_type": "code",
   "execution_count": 213,
   "metadata": {
    "collapsed": true
   },
   "outputs": [],
   "source": [
    "from eigenvalues import *"
   ]
  },
  {
   "cell_type": "code",
   "execution_count": 214,
   "metadata": {
    "collapsed": true
   },
   "outputs": [],
   "source": [
    "import numpy as np\n",
    "import scipy.linalg as linear"
   ]
  },
  {
   "cell_type": "code",
   "execution_count": 215,
   "metadata": {
    "collapsed": true
   },
   "outputs": [],
   "source": [
    "from matplotlib import pyplot as plt"
   ]
  },
  {
   "cell_type": "code",
   "execution_count": 216,
   "metadata": {
    "collapsed": true
   },
   "outputs": [],
   "source": [
    "import matplotlib.image as mpimg"
   ]
  },
  {
   "cell_type": "code",
   "execution_count": 217,
   "metadata": {
    "collapsed": true
   },
   "outputs": [],
   "source": [
    "import imp"
   ]
  },
  {
   "cell_type": "code",
   "execution_count": 218,
   "metadata": {
    "collapsed": false
   },
   "outputs": [
    {
     "data": {
      "text/plain": [
       "<module 'eigenvalues' from 'eigenvalues.pyc'>"
      ]
     },
     "execution_count": 218,
     "metadata": {},
     "output_type": "execute_result"
    }
   ],
   "source": [
    "imp.reload(eigenvalues)"
   ]
  },
  {
   "cell_type": "code",
   "execution_count": 219,
   "metadata": {
    "collapsed": false
   },
   "outputs": [],
   "source": [
    "def SVD(A, tol=1e-7):\n",
    "    '''\n",
    "    Given a matrix A, return its Singular Value Decomposition. That is, A i\n",
    "    \n",
    "    and reducing the dimension of A to (M-1,M-1) until A becomes a single number.\n",
    "    This algorithm converges to an upper triangle matrix with the eigenvalues of A in the diagonal. If A is symmetric, the Q matrices of each iteration can be accumulated to approximate the normal eigenvectors\n",
    "    \n",
    "    Parameters\n",
    "    ----------\n",
    "    A : (M, N) double ndarray\n",
    "        A real matrix whose SVD will be calculated.\n",
    "    tol : double, optional\n",
    "         Cutoff point that determines 'important' singular values. Default is 1e-7.\n",
    "        \n",
    "    Returns\n",
    "    -------\n",
    "    U : (M, k) double ndarray\n",
    "        A unitary matrix that contains the first k left singular vectors of A.\n",
    "    S : (k, k) double ndarray\n",
    "        A square real diagonal matrix whose elements are the k singular values of A greater that the tolerance. \n",
    "    V : (k, N) \n",
    "        A unitary matrix that contains the first k right singular vectors of A.\n",
    "    '''\n",
    "    rows, cols = A.shape\n",
    "    if rows > cols: # Method procedes with lower rank matrix between AA* and A*A\n",
    "        L, U, _ = shiftQR(np.dot(A,A.T), calcQ = True)\n",
    "    else:\n",
    "        L, V, _ = shiftQR(np.dot(A.T,A), calcQ = True)\n",
    "    singularValues = [(x**0.5) if x > 0 else tol for x in L] # The singular values of A are the square root of the eigenvalues returned\n",
    "    k = 0\n",
    "    while k < len(singularValues) and singularValues[k] > tol: # Determine cutoff point \n",
    "        k+=1\n",
    "        \n",
    "    S = np.diag(singularValues[:k])\n",
    "    \n",
    "    if rows > cols: # Calculate remaining singular vectors depending on path chosen at the beginning\n",
    "        U = U[:,:k]\n",
    "        V = np.array([1/singularValues[i]*A.T.dot(U[:,i]) for i in range(k)]).T\n",
    "    else:\n",
    "        V = V[:,:k]\n",
    "        U = np.array([1/singularValues[i]*A.dot(V[:,i]) for i in range(k)]).T\n",
    "    return U, S, V"
   ]
  },
  {
   "cell_type": "code",
   "execution_count": 220,
   "metadata": {
    "collapsed": false
   },
   "outputs": [],
   "source": [
    "A = np.array([[1,2,3],[4,5,6],[7,8,9], [10,11,12]])"
   ]
  },
  {
   "cell_type": "code",
   "execution_count": 221,
   "metadata": {
    "collapsed": false
   },
   "outputs": [
    {
     "data": {
      "text/plain": [
       "array([[ 1,  2,  3],\n",
       "       [ 4,  5,  6],\n",
       "       [ 7,  8,  9],\n",
       "       [10, 11, 12]])"
      ]
     },
     "execution_count": 221,
     "metadata": {},
     "output_type": "execute_result"
    }
   ],
   "source": [
    "A"
   ]
  },
  {
   "cell_type": "code",
   "execution_count": 222,
   "metadata": {
    "collapsed": false,
    "scrolled": true
   },
   "outputs": [],
   "source": [
    "u,s,v = SVD(A)"
   ]
  },
  {
   "cell_type": "code",
   "execution_count": 223,
   "metadata": {
    "collapsed": false,
    "scrolled": true
   },
   "outputs": [
    {
     "data": {
      "text/plain": [
       "array([[-0.80979033, -0.06082192,  0.68814649],\n",
       "       [-0.41855027, -0.03143657,  0.35567713],\n",
       "       [-0.02731022, -0.00205122,  0.02320777],\n",
       "       [ 0.36392984,  0.02733413, -0.30926159]])"
      ]
     },
     "execution_count": 223,
     "metadata": {},
     "output_type": "execute_result"
    }
   ],
   "source": [
    "u.dot(s).dot(v.T)"
   ]
  },
  {
   "cell_type": "code",
   "execution_count": null,
   "metadata": {
    "collapsed": true
   },
   "outputs": [],
   "source": []
  },
  {
   "cell_type": "code",
   "execution_count": null,
   "metadata": {
    "collapsed": true
   },
   "outputs": [],
   "source": []
  },
  {
   "cell_type": "code",
   "execution_count": 224,
   "metadata": {
    "collapsed": true
   },
   "outputs": [],
   "source": [
    "B = np.array([[1,2,3,4], [5,6,7,8], [9,10,11,12]])"
   ]
  },
  {
   "cell_type": "code",
   "execution_count": 225,
   "metadata": {
    "collapsed": false
   },
   "outputs": [],
   "source": [
    "u,s,v = SVD(B)"
   ]
  },
  {
   "cell_type": "code",
   "execution_count": 226,
   "metadata": {
    "collapsed": false
   },
   "outputs": [
    {
     "data": {
      "text/plain": [
       "array([[  2.54368356e+01,   0.00000000e+00,   0.00000000e+00],\n",
       "       [  0.00000000e+00,   1.72261225e+00,   0.00000000e+00],\n",
       "       [  0.00000000e+00,   0.00000000e+00,   1.16993518e-07]])"
      ]
     },
     "execution_count": 226,
     "metadata": {},
     "output_type": "execute_result"
    }
   ],
   "source": [
    "s"
   ]
  },
  {
   "cell_type": "code",
   "execution_count": 227,
   "metadata": {
    "collapsed": false
   },
   "outputs": [
    {
     "data": {
      "text/plain": [
       "array([[-1.12250651, -0.44395316,  0.23460019,  0.91315354],\n",
       "       [-0.32114289, -0.12701254,  0.06711781,  0.26124817],\n",
       "       [ 0.48022072,  0.18992808, -0.10036456, -0.3906572 ]])"
      ]
     },
     "execution_count": 227,
     "metadata": {},
     "output_type": "execute_result"
    }
   ],
   "source": [
    "u.dot(s).dot(v.T)"
   ]
  },
  {
   "cell_type": "code",
   "execution_count": null,
   "metadata": {
    "collapsed": true
   },
   "outputs": [],
   "source": []
  },
  {
   "cell_type": "code",
   "execution_count": null,
   "metadata": {
    "collapsed": true
   },
   "outputs": [],
   "source": []
  },
  {
   "cell_type": "code",
   "execution_count": 228,
   "metadata": {
    "collapsed": false,
    "scrolled": true
   },
   "outputs": [],
   "source": [
    "img = mpimg.imread(\"./Ejercicios/assets/gb.jpg\")"
   ]
  },
  {
   "cell_type": "code",
   "execution_count": 229,
   "metadata": {
    "collapsed": false
   },
   "outputs": [],
   "source": [
    "img = img.astype('float')"
   ]
  },
  {
   "cell_type": "code",
   "execution_count": 230,
   "metadata": {
    "collapsed": false
   },
   "outputs": [],
   "source": [
    "red = img[:,:,0]\n",
    "green = img[:,:,1]\n",
    "blue = img[:,:,2]\n",
    "\n",
    "red = np.array(red)\n",
    "green = np.array(green)\n",
    "blue = np.array(blue)"
   ]
  },
  {
   "cell_type": "code",
   "execution_count": 232,
   "metadata": {
    "collapsed": false
   },
   "outputs": [],
   "source": [
    "u1, s1, v1 = SVD(red, 500)\n",
    "u2, s2, v2 = SVD(green, 500)\n",
    "u3, s3, v3 = SVD(blue, 500)"
   ]
  },
  {
   "cell_type": "code",
   "execution_count": 233,
   "metadata": {
    "collapsed": false
   },
   "outputs": [],
   "source": [
    "newRed = u1.dot(s1).dot(v1.T)\n",
    "newGreen = u2.dot(s2).dot(v2.T)\n",
    "newBlue = u3.dot(s3).dot(v3.T)\n"
   ]
  },
  {
   "cell_type": "code",
   "execution_count": 234,
   "metadata": {
    "collapsed": false,
    "scrolled": true
   },
   "outputs": [
    {
     "data": {
      "text/plain": [
       "(400, 300)"
      ]
     },
     "execution_count": 234,
     "metadata": {},
     "output_type": "execute_result"
    }
   ],
   "source": [
    "newRed.shape"
   ]
  },
  {
   "cell_type": "code",
   "execution_count": 235,
   "metadata": {
    "collapsed": true
   },
   "outputs": [],
   "source": [
    "newImg = [] "
   ]
  },
  {
   "cell_type": "code",
   "execution_count": 236,
   "metadata": {
    "collapsed": false
   },
   "outputs": [
    {
     "data": {
      "text/plain": [
       "(400, 300)"
      ]
     },
     "execution_count": 236,
     "metadata": {},
     "output_type": "execute_result"
    }
   ],
   "source": [
    "red.shape"
   ]
  },
  {
   "cell_type": "code",
   "execution_count": 237,
   "metadata": {
    "collapsed": true
   },
   "outputs": [],
   "source": [
    "for i in range(len(red)):\n",
    "    newImg.append([])\n",
    "    for j in range(len(red[0])):\n",
    "        newImg[i].append([newRed[i][j], newGreen[i][j], newBlue[i][j]])"
   ]
  },
  {
   "cell_type": "code",
   "execution_count": 238,
   "metadata": {
    "collapsed": false
   },
   "outputs": [],
   "source": [
    "newImg = np.array(newImg)"
   ]
  },
  {
   "cell_type": "code",
   "execution_count": 240,
   "metadata": {
    "collapsed": false
   },
   "outputs": [
    {
     "data": {
      "text/plain": [
       "array([[[ -1.66493272e-10,  -3.46310844e-10,   1.30281978e-10],\n",
       "        [  2.48100162e-10,   2.91178897e-10,  -2.98361435e-10],\n",
       "        [  7.22061074e-11,   2.90076349e-10,   4.18594461e-10],\n",
       "        ..., \n",
       "        [  1.36702914e-11,  -1.18834860e-11,   1.05798856e-11],\n",
       "        [  4.94667519e-11,   5.47761760e-11,   3.46506806e-11],\n",
       "        [ -1.97978990e-11,  -4.69216349e-12,  -9.61027618e-13]],\n",
       "\n",
       "       [[  7.30012208e-10,   1.20362101e-11,   3.26979363e-10],\n",
       "        [ -6.26422696e-10,  -7.90099755e-11,   3.71518149e-10],\n",
       "        [ -9.09482078e-11,  -3.82121133e-11,  -3.44308445e-10],\n",
       "        ..., \n",
       "        [  2.28127427e-11,  -1.17270321e-11,  -4.74014969e-11],\n",
       "        [ -6.04995510e-11,   1.00426622e-11,   7.20811672e-12],\n",
       "        [  9.34314201e-12,  -2.37825577e-11,  -3.74999626e-11]],\n",
       "\n",
       "       [[  5.23319125e-10,  -3.18794726e-10,  -2.44480328e-10],\n",
       "        [ -7.45603748e-10,   1.98859469e-10,   3.42928056e-11],\n",
       "        [  6.68109967e-10,  -7.78332517e-11,  -6.98905545e-11],\n",
       "        ..., \n",
       "        [ -2.57157828e-11,  -5.70578030e-12,   4.21826413e-11],\n",
       "        [ -4.75270813e-11,  -2.67312645e-12,  -4.70717499e-11],\n",
       "        [ -7.48041636e-12,  -5.93584536e-12,   5.08460497e-11]],\n",
       "\n",
       "       ..., \n",
       "       [[ -9.44911798e-11,  -5.10778578e-11,   5.37920109e-11],\n",
       "        [ -4.87179546e-11,   1.21443482e-10,  -9.23978322e-11],\n",
       "        [ -3.20500060e-10,  -1.61894166e-11,  -9.90681248e-11],\n",
       "        ..., \n",
       "        [ -7.21003264e-13,   2.51138844e-12,   2.65515175e-12],\n",
       "        [  5.97425586e-12,  -1.82865760e-12,   4.96400457e-12],\n",
       "        [  2.32707198e-11,  -4.35775639e-12,   6.25521833e-13]],\n",
       "\n",
       "       [[ -7.08132652e-11,  -4.97164831e-11,   7.72056822e-11],\n",
       "        [  2.04350246e-10,  -1.07646684e-10,  -5.79062844e-11],\n",
       "        [  2.43100833e-10,   2.76251797e-10,   4.09463364e-11],\n",
       "        ..., \n",
       "        [  2.63057154e-11,  -3.78941001e-11,  -1.53790181e-11],\n",
       "        [  2.01320426e-12,   1.96750185e-11,   3.34727407e-11],\n",
       "        [ -1.14151902e-11,  -1.48392959e-11,  -2.59160582e-11]],\n",
       "\n",
       "       [[  1.93827391e-11,  -1.08681527e-11,  -3.67034364e-11],\n",
       "        [ -1.31659932e-12,  -1.38995997e-10,  -1.56186039e-10],\n",
       "        [ -4.08706121e-11,  -1.17562667e-10,   1.65442413e-11],\n",
       "        ..., \n",
       "        [ -2.30849456e-11,   1.10907616e-11,   7.16779765e-12],\n",
       "        [ -1.13894965e-12,  -1.42286839e-11,  -1.74498896e-11],\n",
       "        [ -6.33915735e-13,   8.31020082e-12,   3.41095902e-12]]])"
      ]
     },
     "execution_count": 240,
     "metadata": {},
     "output_type": "execute_result"
    }
   ],
   "source": [
    "newImg"
   ]
  },
  {
   "cell_type": "code",
   "execution_count": 239,
   "metadata": {
    "collapsed": false,
    "scrolled": true
   },
   "outputs": [
    {
     "data": {
      "image/png": "[encoded data removed]",
      "text/plain": [
       "<matplotlib.figure.Figure at 0x106b89e50>"
      ]
     },
     "metadata": {},
     "output_type": "display_data"
    }
   ],
   "source": [
    "plt.imshow(newImg.astype('uint8'))\n",
    "plt.\n",
    "plt.show()"
   ]
  },
  {
   "cell_type": "code",
   "execution_count": null,
   "metadata": {
    "collapsed": true
   },
   "outputs": [],
   "source": []
  },
  {
   "cell_type": "code",
   "execution_count": null,
   "metadata": {
    "collapsed": true
   },
   "outputs": [],
   "source": []
  }
 ],
 "metadata": {
  "anaconda-cloud": {},
  "kernelspec": {
   "display_name": "Python [default]",
   "language": "python",
   "name": "python2"
  },
  "language_info": {
   "codemirror_mode": {
    "name": "ipython",
    "version": 2
   },
   "file_extension": ".py",
   "mimetype": "text/x-python",
   "name": "python",
   "nbconvert_exporter": "python",
   "pygments_lexer": "ipython2",
   "version": "2.7.12"
  }
 },
 "nbformat": 4,
 "nbformat_minor": 1
}
